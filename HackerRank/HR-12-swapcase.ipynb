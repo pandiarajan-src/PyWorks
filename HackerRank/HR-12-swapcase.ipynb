{
 "cells": [
  {
   "cell_type": "markdown",
   "metadata": {},
   "source": []
  },
  {
   "cell_type": "code",
   "execution_count": null,
   "metadata": {},
   "outputs": [],
   "source": [
    "def swap_case(data):\n",
    "    input_size = len(data)\n",
    "    output = \"\"\n",
    "    if input_size > 0 and input_size <= 1000:        \n",
    "        for letter in data:\n",
    "            if letter.isalpha():\n",
    "                if str.islower(letter):\n",
    "                    output += str.upper(letter)\n",
    "                if str.isupper(letter):\n",
    "                    output += str.lower(letter)\n",
    "            else:\n",
    "                output += letter\n",
    "        return output\n",
    "    else:\n",
    "        return None\n",
    "\n",
    "if __name__ == \"__main__\":\n",
    "    data = input()\n",
    "    print(swap_case(data))\n"
   ]
  }
 ],
 "metadata": {
  "language_info": {
   "name": "python"
  },
  "orig_nbformat": 4
 },
 "nbformat": 4,
 "nbformat_minor": 2
}
