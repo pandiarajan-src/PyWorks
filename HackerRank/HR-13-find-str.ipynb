{
 "cells": [
  {
   "cell_type": "code",
   "execution_count": 1,
   "metadata": {},
   "outputs": [],
   "source": [
    "def count_substring(string, sub_string):\n",
    "    count = 0\n",
    "    pos = 0\n",
    "    while(pos < len(string)):\n",
    "        pos = string.find(sub_string, pos, len(string))\n",
    "        if pos != -1:\n",
    "            count += 1\n",
    "            index = pos + 1\n",
    "        else:\n",
    "            break\n",
    "    return count\n",
    "\n",
    "if __name__ == \"__main__\":\n",
    "    full_string = input()\n",
    "    sub_string = input()\n",
    "    print(f\"{count_substring(string=full_string, sub_string=sub_string)}\")"
   ]
  }
 ],
 "metadata": {
  "kernelspec": {
   "display_name": "Python 3.10.8 64-bit",
   "language": "python",
   "name": "python3"
  },
  "language_info": {
   "codemirror_mode": {
    "name": "ipython",
    "version": 3
   },
   "file_extension": ".py",
   "mimetype": "text/x-python",
   "name": "python",
   "nbconvert_exporter": "python",
   "pygments_lexer": "ipython3",
   "version": "3.10.8"
  },
  "orig_nbformat": 4,
  "vscode": {
   "interpreter": {
    "hash": "b0fa6594d8f4cbf19f97940f81e996739fb7646882a419484c72d19e05852a7e"
   }
  }
 },
 "nbformat": 4,
 "nbformat_minor": 2
}
