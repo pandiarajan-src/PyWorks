{
 "cells": [
  {
   "cell_type": "markdown",
   "metadata": {},
   "source": [
    "# List example program\n",
    "Consider a list (list = []). You can perform the following commands:\n",
    "\n",
    "insert i e: Insert integer e at position i.\n",
    "print: Print the list.\n",
    "remove e: Delete the first occurrence of integer e.\n",
    "append e: Insert integer e at the end of the list.\n",
    "sort: Sort the list.\n",
    "pop: Pop the last element from the list.\n",
    "reverse: Reverse the list.\n",
    "Initialize your list and read in the value of n followed by n lines of commands where each command will be of the 7 types listed above. Iterate through each command in order and perform the corresponding operation on your list.\n",
    "\n",
    "# Input Format:\n",
    "The first line contains an integer, n, denoting the number of commands. \n",
    "Each line i of the n subsequent lines contains one of the commands described above.\n",
    "\n",
    "# Constraints\n",
    "The elements added to the list must be integers.\n",
    "\n",
    "# Output Format\n",
    "For each command of type print, print the list on a new line.\n",
    "\n",
    "# Sample Input 0\n",
    "12\n",
    "insert 0 5\n",
    "insert 1 10\n",
    "insert 0 6\n",
    "print\n",
    "remove 6\n",
    "append 9\n",
    "append 1\n",
    "sort\n",
    "print\n",
    "pop\n",
    "reverse\n",
    "print\n",
    "\n",
    "# Sample Output 0\n",
    "[6, 5, 10]\n",
    "[1, 5, 9, 10]\n",
    "[9, 5, 1]"
   ]
  },
  {
   "cell_type": "code",
   "execution_count": 6,
   "metadata": {},
   "outputs": [
    {
     "name": "stdout",
     "output_type": "stream",
     "text": [
      "[1]\n"
     ]
    }
   ],
   "source": [
    "if __name__ == '__main__':\n",
    "    try:\n",
    "        N = int(input())\n",
    "        data = list()\n",
    "        for i in range(N):\n",
    "            cmd = (input().lower().split(' '))\n",
    "            if cmd[0] == \"append\":\n",
    "                data.append(int(cmd[1]))\n",
    "            elif cmd[0] == \"insert\":\n",
    "                data.insert(int(cmd[1]), int(cmd[2]))\n",
    "            elif cmd[0] == \"print\":\n",
    "                print(data)\n",
    "            elif cmd[0] == \"remove\":\n",
    "                data.remove(int(cmd[1]))\n",
    "            elif cmd[0] == \"sort\":\n",
    "                data = sorted(data)\n",
    "            elif cmd[0] == \"pop\":\n",
    "                data.pop()\n",
    "            elif cmd[0] == \"reverse\":\n",
    "                data.reverse()\n",
    "    except TypeError:\n",
    "        print(\"Typer conversion error\")\n",
    "\n"
   ]
  }
 ],
 "metadata": {
  "kernelspec": {
   "display_name": "Python 3.10.8 64-bit",
   "language": "python",
   "name": "python3"
  },
  "language_info": {
   "codemirror_mode": {
    "name": "ipython",
    "version": 3
   },
   "file_extension": ".py",
   "mimetype": "text/x-python",
   "name": "python",
   "nbconvert_exporter": "python",
   "pygments_lexer": "ipython3",
   "version": "3.10.8"
  },
  "orig_nbformat": 4,
  "vscode": {
   "interpreter": {
    "hash": "b0fa6594d8f4cbf19f97940f81e996739fb7646882a419484c72d19e05852a7e"
   }
  }
 },
 "nbformat": 4,
 "nbformat_minor": 2
}
