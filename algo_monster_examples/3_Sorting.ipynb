{
 "cells": [
  {
   "cell_type": "markdown",
   "metadata": {},
   "source": [
    "# Sorting\n",
    "\n",
    "Sorting is one of the most fundamental algorithms in computer programming. <br>\n",
    "A lot of algorithms rely on dealing with sorted lists, and a lot of questions requires a sorted list to be outputted. <br>\n",
    "<br>\n",
    "While most programming languages offer a sorting function, it is still a very useful algorithm to know so you can understand them better.\n",
    "<br>\n",
    "There are some terms that you need to be familiar with when talking about sorting algorithms.\n",
    "<br>\n",
    "\n",
    "#### <font color=green>Time Complexity</font>\n",
    "First, you must be familiar with <a href=\"https://algo.monster/problems/runtime_summary\">Time Complexity</a> so you know which algorithms are better in terms of run time.<br>\n",
    "\n",
    "#### <font color=green>Stable</font>\n",
    "A stable sorting algorithm means that when two elements have the same value, their relative order is maintained. For example, if we are sorting a hand of cards, and we have a Seven of Hearts before a Seven of Spades in the initial hand, after a stable sort, the Seven of Hearts is still before the Seven of Spades, because their values are the same. However, in an unstable algorithm, the Seven of Spades might appear before the Seven of Hearts. The above is only true when we are comparing the cards by value, not suit. That is, two cards of the same value can be different.\n",
    "\n",
    "#### <font color=green>In-Place</font>\n",
    "An in-place sorting algorithm means that the algorithm does not use additional data structure to hold temporary data. Additional memory cannot be avoided (as swapping two elements involve additional memory), but they should be something like a temporary variable that uses very little additional memory.\n",
    "\n"
   ]
  },
  {
   "cell_type": "markdown",
   "metadata": {},
   "source": [
    "## Basic Sort"
   ]
  },
  {
   "cell_type": "code",
   "execution_count": 3,
   "metadata": {},
   "outputs": [
    {
     "name": "stdout",
     "output_type": "stream",
     "text": [
      "0 1 2 3 4 5 6 7 8 9\n"
     ]
    }
   ],
   "source": [
    "from typing import List\n",
    "\n",
    "def basic_sort(unsorted_list : List[int]) -> List[int]:\n",
    "    for i in range(len(unsorted_list)):\n",
    "        for j in range(i, len(unsorted_list)):\n",
    "            if unsorted_list[i] > unsorted_list[j]:\n",
    "                unsorted_list[j], unsorted_list[i] = unsorted_list[i], unsorted_list[j]\n",
    "\n",
    "    return unsorted_list\n",
    "\n",
    "if __name__ == \"__main__\":\n",
    "    unsorted_lst = [int(x) for x in input().split()]\n",
    "    sorted_list = basic_sort(unsorted_lst)\n",
    "    print(' '.join(map(str, sorted_list)))"
   ]
  },
  {
   "cell_type": "markdown",
   "metadata": {},
   "source": [
    "## Insertion Sort\n",
    "\n",
    "The idea of an insertion sort is this: initially, only the first item is considered sorted. Then, for each item in the sequence, we \"insert\" that item into the sorted list by swapping that item with the item before it until the item before it is smaller than the current item.<br><br>\n",
    "\n",
    "Imagine you are sorting a hand of cards. What people usually do is maintain a pile of sorted cards and inserting from the unsorted pile into the sorted pile in the correct position. This algorithm is based on this idea.\n",
    "\n",
    "For each n item in the list, the time complexity to insert it into the sorted list is O(i), where i is the index of that item. Overall, the <font color=green>**time complexity is O(n * (n - 1) / 2), which is equivalent to O(n^2).**</font>\n",
    "\n",
    "It is <font color=green>a stable algorithm</font> because later elements will not swap with earlier elements unless the later element is smaller, and it is <font color=green>an in-place algorithm</font> because no additional data structure is used to store intermediate values."
   ]
  },
  {
   "cell_type": "code",
   "execution_count": 4,
   "metadata": {},
   "outputs": [
    {
     "name": "stdout",
     "output_type": "stream",
     "text": [
      "0 1 2 3 4 5 6 7 8 9\n"
     ]
    }
   ],
   "source": [
    "from typing import List\n",
    "\n",
    "def insertion_sort(unsorted_list : List[int]) -> List[int]:\n",
    "    for i, entry in enumerate(unsorted_list):\n",
    "        current = i\n",
    "        while current > 0 and unsorted_list[current-1] > unsorted_list[current]:\n",
    "            unsorted_list[current-1], unsorted_list[current] = unsorted_list[current], unsorted_list[current-1]\n",
    "            current -= 1\n",
    "\n",
    "    return unsorted_list\n",
    "\n",
    "if __name__ == \"__main__\":\n",
    "    unsorted_lst = [int(x) for x in input().split()]\n",
    "    sorted_list = insertion_sort(unsorted_lst)\n",
    "    print(' '.join(map(str, sorted_list)))"
   ]
  },
  {
   "cell_type": "markdown",
   "metadata": {},
   "source": [
    "### Selection Sort\n",
    "\n",
    "The idea for this sorting algorithm is that during each cycle, we find the smallest item from the unsorted pile and add it to the sorted pile.<br><br>\n",
    "\n",
    "To find the smallest element in the unsorted pile, we have a temporary variable keeping track of the index to the smallest element. We then compare each element in the unsorted pile to that element, updating the new index if necessary.<br><br>\n",
    "\n",
    "After all the elements have been compared, we swap the smallest index with the first index of the unsorted pile. The element is now part of the sorted pile.<br><br>\n",
    "\n",
    "For each n item in the list, the time complexity to find the smallest item in the unsorted pile is O(n - i), where i is the index of that item. Overall, <font color=green>the time complexity is O(n * (n + 1) / 2), which is equivalent to O(n^2).</font>\n",
    "\n",
    "This algorithm <font color=green>is not stable</font> because an earlier element can jump after an element of the same value during a swap, but the algorithm <font color=green>is in-place </font>as it only needs additional memory to store the index to the minimum element."
   ]
  },
  {
   "cell_type": "code",
   "execution_count": 5,
   "metadata": {},
   "outputs": [
    {
     "name": "stdout",
     "output_type": "stream",
     "text": [
      "0 1 2 3 4 5 6 7 8 9\n"
     ]
    }
   ],
   "source": [
    "from typing import List\n",
    "\n",
    "def selection_sort(unsorted_list: List[int]) -> List[int]:\n",
    "    n = len(unsorted_list)\n",
    "    for i in range(n):\n",
    "        min_index = i\n",
    "        for j in range(i, n):\n",
    "            if unsorted_list[j] < unsorted_list[min_index]:\n",
    "                min_index = j\n",
    "        unsorted_list[i], unsorted_list[min_index] = unsorted_list[min_index], unsorted_list[i]\n",
    "    \n",
    "    return unsorted_list\n",
    "\n",
    "if __name__ == \"__main__\":\n",
    "    unsorted_lst = [int(x) for x in input().split()]\n",
    "    sorted_list = selection_sort(unsorted_lst)\n",
    "    print(' '.join(map(str, sorted_list)))"
   ]
  },
  {
   "cell_type": "markdown",
   "metadata": {},
   "source": []
  }
 ],
 "metadata": {
  "interpreter": {
   "hash": "7111a5d2cc490e67e5545c5cecb7321c04651756cdcfb8ee9a1a2c85cc7c6e80"
  },
  "kernelspec": {
   "display_name": "Python 3.10.1 64-bit ('3.10.1')",
   "language": "python",
   "name": "python3"
  },
  "language_info": {
   "codemirror_mode": {
    "name": "ipython",
    "version": 3
   },
   "file_extension": ".py",
   "mimetype": "text/x-python",
   "name": "python",
   "nbconvert_exporter": "python",
   "pygments_lexer": "ipython3",
   "version": "3.10.1"
  },
  "orig_nbformat": 4
 },
 "nbformat": 4,
 "nbformat_minor": 2
}
