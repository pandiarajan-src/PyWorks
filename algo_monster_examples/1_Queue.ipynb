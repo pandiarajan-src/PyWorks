{
 "cells": [
  {
   "cell_type": "markdown",
   "metadata": {},
   "source": [
    "# Queue\n",
    "A queue is a data structure with the <font color=green>**\"first in, first out\"**</font> property.<br> \n",
    "That is, an item can be inserted and removed from the queue, but an item can only be removed from the queue after all the items added before it are removed first.\n",
    "\n",
    "> It supports three operations:\n",
    "\n",
    "1. Insert (or \"Push\"): Putting an item into the end of the queue.\n",
    "2. Peek: Look at the first item of the queue.\n",
    "3. Remove (or \"Pop\"): Remove the first item of the queue.\n",
    "\n",
    "**It is pretty much like a queue in real life: First come, first serve.**\n",
    "<font color=green>A deque is a double-ended queue. That means that inserting and removing items from the queue can be done on both end.</font>\n",
    "\n",
    "### Python\n",
    "Most modern programming languages offer a built-in deque data structure, and they often use a dynamic array as its underlying data structure (although they can also use a double-linked list, like Python's deque class).<br>\n",
    "You won't have to worry about deques overflowing because the resizing of the array is handled for you.<br>\n",
    "\n",
    "<font color=green>For Python, you can use the deque class of the collections module.</font>"
   ]
  },
  {
   "cell_type": "code",
   "execution_count": 3,
   "metadata": {},
   "outputs": [
    {
     "name": "stdout",
     "output_type": "stream",
     "text": [
      "deque([40, 30, 20, 2, 3, 4])\n",
      "4\n",
      "40\n",
      "4\n",
      "40\n",
      "deque([30, 20, 2, 3])\n"
     ]
    }
   ],
   "source": [
    "from collections import deque\n",
    "\n",
    "# Initialize a new queue (2-sided queue)\n",
    "queue = deque()\n",
    "\n",
    "# Append on the right(tail)\n",
    "queue.append(2)\n",
    "queue.append(3)\n",
    "queue.append(4)\n",
    "\n",
    "# Append 20 on the left(head)\n",
    "queue.appendleft(20)\n",
    "queue.appendleft(30)\n",
    "queue.appendleft(40)\n",
    "\n",
    "print(queue)\n",
    "\n",
    "# Look at the tail of the queue\n",
    "print(queue[-1])\n",
    "\n",
    "# Look at the head of the queue\n",
    "print(queue[0])\n",
    "\n",
    "# Pop at the head of the queue\n",
    "print( queue.pop() )\n",
    "\n",
    "# Pop at the head of the queue\n",
    "print( queue.popleft() )\n",
    "\n",
    "print(queue)\n",
    "\n"
   ]
  }
 ],
 "metadata": {
  "interpreter": {
   "hash": "7111a5d2cc490e67e5545c5cecb7321c04651756cdcfb8ee9a1a2c85cc7c6e80"
  },
  "kernelspec": {
   "display_name": "Python 3.10.1 64-bit ('3.10.1')",
   "language": "python",
   "name": "python3"
  },
  "language_info": {
   "codemirror_mode": {
    "name": "ipython",
    "version": 3
   },
   "file_extension": ".py",
   "mimetype": "text/x-python",
   "name": "python",
   "nbconvert_exporter": "python",
   "pygments_lexer": "ipython3",
   "version": "3.10.1"
  },
  "orig_nbformat": 4
 },
 "nbformat": 4,
 "nbformat_minor": 2
}
