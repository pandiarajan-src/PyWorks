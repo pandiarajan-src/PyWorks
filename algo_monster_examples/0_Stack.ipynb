{
 "cells": [
  {
   "cell_type": "markdown",
   "metadata": {},
   "source": [
    "# Stack\n",
    "\n",
    "A stack is a data structure with the <font color=green>**\"first in, last out\"** </font>property. <br>\n",
    "That is, an item can be inserted and removed from a stack, but an item can only be removed from the stack after all the items added after it are removed first.<br>\n",
    "\n",
    "> It supports three operations:\n",
    "\n",
    "1. Insert (or \"Push\"): Putting an item into the stack.\n",
    "2. Peek: Look at the top item of the stack (the last inserted item that's not removed).\n",
    "3. Remove (or \"Pop\"): Remove the top item of the stack.\n",
    "\n",
    "\n",
    "In a real world scenario, there are some situations we need to be careful of when doing an operation on a stack.<br>\n",
    "### Underflow\n",
    "Removing an item from a stack with no items will cause an \"underflow\" error. <br>\n",
    "Underflow errors can be prevented by <font color=green>**simply checking if the stack is empty**</font> before removing an item from the stack, as programs almost never want to pop from an empty stack.<br>\n",
    "\n",
    "### Overflow\n",
    "If we have a static sized array as a stack and we try to insert an item into the stack while it's full, it will cause an \"overflow\".<br>\n",
    "Overflow errors are a bit tricky, as programs sometimes would like to add more items to the stack.<br>\n",
    "<font color=green>**Use Dynamically sized array**.</font>\n",
    "\n",
    "### Time complexity\n",
    "Fortunately for modern programming languages, there is usually a dynamically sized array data structure, and they can be used as a stack.<br>\n",
    "Insertion and deletion from the list has a time complexity of * <font color=green>**O(1) (on average)** *</font><br>\n",
    "Because memories are dynamically assigned to the list, we don't have to worry about overflowing, because if it reaches a max size, the system will just allocate more memory for them.<br>\n",
    "\n",
    "### Python\n",
    "In Python, you can <font color=green>use the default list as a stack</font>, since all python lists are dynamically sized. \n",
    "\n"
   ]
  },
  {
   "cell_type": "code",
   "execution_count": null,
   "metadata": {},
   "outputs": [],
   "source": [
    "# Initialize the Stack\n",
    "stack = []\n",
    "\n",
    "# Insert an item in the stack\n",
    "stack.append(1)\n",
    "stack.append(2)\n",
    "stack.append(3)\n",
    "print(f\"After inserting items into stack {stack}\")\n",
    "\n",
    "# Look into top of the item\n",
    "print(f\"Top of the item {stack[-1]}\")\n",
    "\n",
    "# Pop the item\n",
    "print( f\"Poping an Item: {stack.pop()}\" )\n",
    "print( f\"Poping an Next Item: {stack.pop()}\" )"
   ]
  }
 ],
 "metadata": {
  "interpreter": {
   "hash": "7111a5d2cc490e67e5545c5cecb7321c04651756cdcfb8ee9a1a2c85cc7c6e80"
  },
  "kernelspec": {
   "display_name": "Python 3.10.1 64-bit ('3.10.1')",
   "language": "python",
   "name": "python3"
  },
  "language_info": {
   "codemirror_mode": {
    "name": "ipython",
    "version": 3
   },
   "file_extension": ".py",
   "mimetype": "text/x-python",
   "name": "python",
   "nbconvert_exporter": "python",
   "pygments_lexer": "ipython3",
   "version": "3.10.1"
  },
  "orig_nbformat": 4
 },
 "nbformat": 4,
 "nbformat_minor": 2
}
