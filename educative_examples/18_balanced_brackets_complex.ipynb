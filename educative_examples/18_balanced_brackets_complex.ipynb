{
 "cells": [
  {
   "cell_type": "markdown",
   "metadata": {},
   "source": [
    "# Balaced Brackets with Stack implementation\n",
    "\n",
    "A balanced set of brackets is one where the number and type of opening and closing brackets match and that is also properly nested within the string of brackets.\n",
    "\n",
    "### Examples of Balanced Brackets\n",
    "> { } </br>\n",
    "> { } { } </br>\n",
    "> ( ( { [ ] } ) )</br>\n",
    "\n",
    "### Examples of Unbalanced Brackets\n",
    "> ( ( )</br>\n",
    "> { { { ) } ]</br>\n",
    "> [ ] [ ] ] ]</br>"
   ]
  },
  {
   "cell_type": "code",
   "execution_count": 15,
   "metadata": {},
   "outputs": [],
   "source": [
    "# Basic stack implementation\n",
    "\n",
    "class Stack:\n",
    "    def __init__(self):\n",
    "        self.items = list()\n",
    "    \n",
    "    def is_empty(self):\n",
    "        return True if len(self.items) == 0 else False\n",
    "    \n",
    "    def push(self, item):\n",
    "        self.items.append(item)\n",
    "    \n",
    "    def pop(self):\n",
    "        if len(self.items) > 0:\n",
    "            return self.items.pop()\n",
    "        else:\n",
    "            return None\n",
    "\n",
    "    def peek(self):\n",
    "        if len(self.items) > 0:\n",
    "            return self.items[-1]\n",
    "        else:\n",
    "            return None        \n",
    "\n",
    "    def get_stack(self):\n",
    "        return self.items\n"
   ]
  },
  {
   "cell_type": "code",
   "execution_count": 16,
   "metadata": {},
   "outputs": [
    {
     "name": "stdout",
     "output_type": "stream",
     "text": [
      "{} : Bracket Match : True\n",
      "{ } { } : Bracket Match : True\n",
      "( ( { [ ] } ) ) : Bracket Match : True\n",
      "( ( ) : Bracket Match : False\n",
      "{ { { ) } ] : Bracket Match : False\n",
      "[ ] [ ] ] ] : Bracket Match : False\n"
     ]
    }
   ],
   "source": [
    "# Balanced bracket implementation\n",
    "\n",
    "def is_bracket_match(openChar, closeChar):\n",
    "    if openChar == \"{\" and closeChar == \"}\":\n",
    "        return True\n",
    "    elif openChar == \"(\" and closeChar == \")\":\n",
    "        return True\n",
    "    elif openChar == \"[\" and closeChar == \"]\":\n",
    "        return True\n",
    "    elif openChar == \"<\" and closeChar == \">\":\n",
    "        return True \n",
    "    else:\n",
    "        return False           \n",
    "\n",
    "def is_paren_balanced(paren_string):\n",
    "    open_brackets = \"({[<\"\n",
    "    close_brackets = \")}]>\"\n",
    "    is_match = True\n",
    "    bracket_stack = Stack()\n",
    "    for c in paren_string:\n",
    "        if c in open_brackets:\n",
    "            bracket_stack.push(c)\n",
    "        elif c in close_brackets:\n",
    "            if is_bracket_match(bracket_stack.pop(), c):\n",
    "                continue\n",
    "            else:\n",
    "                is_match = False\n",
    "                break\n",
    "        else:\n",
    "            continue\n",
    "    if not bracket_stack.is_empty():\n",
    "        is_match = False\n",
    "    \n",
    "    return is_match\n",
    "\n",
    "paren = \"{}\"\n",
    "print(f\"{paren} : Bracket Match : {is_paren_balanced(paren)}\")\n",
    "\n",
    "paren = \"{ } { }\"\n",
    "print(f\"{paren} : Bracket Match : {is_paren_balanced(paren)}\")\n",
    "\n",
    "paren = \"( ( { [ ] } ) )\"\n",
    "print(f\"{paren} : Bracket Match : {is_paren_balanced(paren)}\")\n",
    "\n",
    "paren = \"( ( )\"\n",
    "print(f\"{paren} : Bracket Match : {is_paren_balanced(paren)}\")\n",
    "\n",
    "paren = \"{ { { ) } ]\"\n",
    "print(f\"{paren} : Bracket Match : {is_paren_balanced(paren)}\")\n",
    "\n",
    "paren = \"[ ] [ ] ] ]\"\n",
    "print(f\"{paren} : Bracket Match : {is_paren_balanced(paren)}\")\n"
   ]
  },
  {
   "cell_type": "code",
   "execution_count": 6,
   "metadata": {},
   "outputs": [
    {
     "name": "stdout",
     "output_type": "stream",
     "text": [
      "['A', 'B']\n",
      "B\n",
      "['A']\n",
      "A\n",
      "['A']\n",
      "False\n",
      "A\n",
      "True\n"
     ]
    }
   ],
   "source": [
    "# Testing Stack implementation\n",
    "\n",
    "myStack = Stack()\n",
    "myStack.push('A')\n",
    "myStack.push('B')\n",
    "print(myStack.get_stack())\n",
    "\n",
    "print( myStack.pop() )\n",
    "print( myStack.get_stack())\n",
    "\n",
    "print(myStack.peek())\n",
    "print(myStack.get_stack())\n",
    "\n",
    "print(myStack.is_empty())\n",
    "print( myStack.pop() )\n",
    "print(myStack.is_empty())"
   ]
  }
 ],
 "metadata": {
  "interpreter": {
   "hash": "7111a5d2cc490e67e5545c5cecb7321c04651756cdcfb8ee9a1a2c85cc7c6e80"
  },
  "kernelspec": {
   "display_name": "Python 3.10.1 64-bit ('3.10.1')",
   "language": "python",
   "name": "python3"
  },
  "language_info": {
   "codemirror_mode": {
    "name": "ipython",
    "version": 3
   },
   "file_extension": ".py",
   "mimetype": "text/x-python",
   "name": "python",
   "nbconvert_exporter": "python",
   "pygments_lexer": "ipython3",
   "version": "3.10.1"
  },
  "orig_nbformat": 4
 },
 "nbformat": 4,
 "nbformat_minor": 2
}
