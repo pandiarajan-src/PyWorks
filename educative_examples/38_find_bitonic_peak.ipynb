{
 "cells": [
  {
   "cell_type": "markdown",
   "metadata": {},
   "source": [
    "# Find Bitonic Peak\n",
    "\n",
    "we will be given an array that is bitonically sorted, an array that starts off with increasing terms and then concludes with decreasing terms. In any such sequence, there is a “peak” element which is the largest element in the sequence. We will be writing a solution to help us find the peak element of a bitonic sequence.\n",
    "\n",
    "> A bitonic sequence is a sequence of integers such that: x0 < ... < xk > ... > xn-1 for some k, 0 <=k<n\n",
    "\n",
    "> Notice that the sequence for this problem does not contain any duplicates\n",
    "\n",
    "### Example\n",
    "\n",
    "1, 2, 3, 4, 5, 4, 3, 2, 1\n",
    "<br/>\n",
    "is a bitonic sequence. In the example above, the peak element is 5.\n",
    "</br>\n",
    "Also assume that alwyas peak elements exists\n",
    "\n",
    "\n"
   ]
  },
  {
   "cell_type": "code",
   "execution_count": 11,
   "metadata": {},
   "outputs": [
    {
     "name": "stdout",
     "output_type": "stream",
     "text": [
      "Bitonic peak of the seeuqnce [1, 2, 3, 4, 5, 4, 3, 2, 1] is 5\n",
      "Bitonic peak of the seeuqnce [1, 6, 5, 4, 3, 2, 1] is 6\n",
      "Bitonic peak of the seeuqnce [1, 2, 3, 4, 1] is 4\n",
      "Bitonic peak of the seeuqnce [1, 2, 3, 4, 5] is 5\n",
      "Bitonic peak of the seeuqnce [5, 4, 3, 2, 1] is 5\n",
      "Bitonic peak of the seeuqnce [1, 2, 3, 4, 5, 4, 3, 2, 1] is 5\n",
      "Bitonic peak of the seeuqnce [1, 6, 5, 4, 3, 2, 1] is 6\n",
      "Bitonic peak of the seeuqnce [1, 2, 3, 4, 1] is 4\n",
      "Bitonic peak of the seeuqnce [1, 2, 3, 4, 5] is None\n",
      "Bitonic peak of the seeuqnce [5, 4, 3, 2, 1] is 5\n"
     ]
    }
   ],
   "source": [
    "# Find Bitonic Peak\n",
    "\n",
    "def find_bitonic_peak_naive(numbers):\n",
    "    if not numbers:\n",
    "        return None\n",
    "    prev_num = 0\n",
    "    for i in range(len(numbers)):\n",
    "        if numbers[i] > prev_num:\n",
    "            prev_num = numbers[i]\n",
    "        else:\n",
    "            return prev_num\n",
    "    return numbers[i]\n",
    "\n",
    "\n",
    "def find_bitonic_peak_binary_search(numbers):\n",
    "    low = 0\n",
    "    high = len(numbers)-1\n",
    "    while low <= high:\n",
    "        mid = (low+high)//2\n",
    "        mid_left = numbers[mid-1] if (mid-1) >= 0 else float(\"-inf\")\n",
    "        mid_right = numbers[mid+1] if (mid+1) < len(numbers) else float(\"inf\")\n",
    "\n",
    "        if numbers[mid] > mid_left and numbers[mid] < mid_right:\n",
    "            low = mid + 1\n",
    "        elif numbers[mid] < mid_left and numbers[mid] > mid_right:\n",
    "            high = mid - 1\n",
    "        elif numbers[mid] > mid_left and numbers[mid] > mid_right:\n",
    "            return numbers[mid]\n",
    "    return None\n",
    "\n",
    "\n",
    "A1 = [1, 2, 3, 4, 5, 4, 3, 2, 1]\n",
    "A2 = [1, 6, 5, 4, 3, 2, 1]\n",
    "A3 = [1, 2, 3, 4, 1]\n",
    "A4 = [1, 2, 3, 4, 5]\n",
    "A5 = [5, 4, 3, 2, 1]\n",
    "\n",
    "print(f\"Bitonic peak of the seeuqnce {A1} is {find_bitonic_peak_naive(A1)}\")\n",
    "print(f\"Bitonic peak of the seeuqnce {A2} is {find_bitonic_peak_naive(A2)}\")\n",
    "print(f\"Bitonic peak of the seeuqnce {A3} is {find_bitonic_peak_naive(A3)}\")\n",
    "print(f\"Bitonic peak of the seeuqnce {A4} is {find_bitonic_peak_naive(A4)}\")\n",
    "print(f\"Bitonic peak of the seeuqnce {A5} is {find_bitonic_peak_naive(A5)}\")\n",
    "\n",
    "print(f\"Bitonic peak of the seeuqnce {A1} is {find_bitonic_peak_binary_search(A1)}\")\n",
    "print(f\"Bitonic peak of the seeuqnce {A2} is {find_bitonic_peak_binary_search(A2)}\")\n",
    "print(f\"Bitonic peak of the seeuqnce {A3} is {find_bitonic_peak_binary_search(A3)}\")\n",
    "print(f\"Bitonic peak of the seeuqnce {A4} is {find_bitonic_peak_binary_search(A4)}\")\n",
    "print(f\"Bitonic peak of the seeuqnce {A5} is {find_bitonic_peak_binary_search(A5)}\")\n",
    "\n",
    "\n"
   ]
  }
 ],
 "metadata": {
  "interpreter": {
   "hash": "7111a5d2cc490e67e5545c5cecb7321c04651756cdcfb8ee9a1a2c85cc7c6e80"
  },
  "kernelspec": {
   "display_name": "Python 3.10.1 64-bit ('3.10.1')",
   "language": "python",
   "name": "python3"
  },
  "language_info": {
   "codemirror_mode": {
    "name": "ipython",
    "version": 3
   },
   "file_extension": ".py",
   "mimetype": "text/x-python",
   "name": "python",
   "nbconvert_exporter": "python",
   "pygments_lexer": "ipython3",
   "version": "3.10.1"
  },
  "orig_nbformat": 4
 },
 "nbformat": 4,
 "nbformat_minor": 2
}
