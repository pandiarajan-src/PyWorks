{
 "cells": [
  {
   "cell_type": "markdown",
   "metadata": {},
   "source": [
    "# Find pairs of a sum of a some numbers using doubly linked list"
   ]
  },
  {
   "cell_type": "code",
   "execution_count": 3,
   "metadata": {},
   "outputs": [
    {
     "name": "stdout",
     "output_type": "stream",
     "text": [
      "[(1, 4), (2, 3)]\n"
     ]
    }
   ],
   "source": [
    "# Find pairs of a sum of a some numbers using doubly linked list\n",
    "\n",
    "from doubly_linked_list import DoubleLinkedLists\n",
    "\n",
    "def pairs_with_sum(dllst, sum_val):\n",
    "    lst_pairs = []\n",
    "    comp_node = dllst.head\n",
    "    while comp_node and comp_node.next:\n",
    "        curr_node = comp_node.next\n",
    "        while curr_node:\n",
    "            if curr_node.data + comp_node.data == sum_val:\n",
    "                lst_pairs.append((comp_node.data, curr_node.data))\n",
    "            curr_node = curr_node.next\n",
    "        comp_node = comp_node.next\n",
    "    return lst_pairs\n",
    "\n",
    "def pairs_with_sum_test():\n",
    "    dllst = DoubleLinkedLists()\n",
    "    dllst.append(1)\n",
    "    dllst.append(2)\n",
    "    dllst.append(3)\n",
    "    dllst.append(4)\n",
    "    dllst.append(5)\n",
    "    lst_pair = pairs_with_sum(dllst, 5)\n",
    "    print(lst_pair)\n",
    "\n",
    "pairs_with_sum_test()"
   ]
  }
 ],
 "metadata": {
  "interpreter": {
   "hash": "7111a5d2cc490e67e5545c5cecb7321c04651756cdcfb8ee9a1a2c85cc7c6e80"
  },
  "kernelspec": {
   "display_name": "Python 3.10.1 64-bit ('3.10.1')",
   "language": "python",
   "name": "python3"
  },
  "language_info": {
   "codemirror_mode": {
    "name": "ipython",
    "version": 3
   },
   "file_extension": ".py",
   "mimetype": "text/x-python",
   "name": "python",
   "nbconvert_exporter": "python",
   "pygments_lexer": "ipython3",
   "version": "3.10.1"
  },
  "orig_nbformat": 4
 },
 "nbformat": 4,
 "nbformat_minor": 2
}
