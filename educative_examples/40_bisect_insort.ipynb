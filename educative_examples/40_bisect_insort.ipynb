{
 "cells": [
  {
   "cell_type": "markdown",
   "metadata": {},
   "source": [
    "# Python's Bisect Method\n",
    "\n",
    "In this lesson, we will learn about a function that takes an array of sorted integers and a key and returns the index of the first occurrence of that key from the array.\n",
    "\n",
    "### For example, for the array:\n",
    "> [-14, -10, 2, 108, 108, 243, 285, 285, 285, 401] </br>\n",
    "> Target : 108\n",
    "</br>\n",
    "\n",
    "bisect is used for binary search.</br>\n",
    "insort is used to insert using binary search method.</br>\n"
   ]
  },
  {
   "cell_type": "code",
   "execution_count": 4,
   "metadata": {},
   "outputs": [
    {
     "name": "stdout",
     "output_type": "stream",
     "text": [
      "Target 108 first occurecnce in [-14, -10, 2, 108, 108, 243, 285, 285, 285, 401] : result index 3\n",
      "Target 108 first occurecnce in [-14, -10, 2, 108, 108, 243, 285, 285, 285, 401] : result index 5\n",
      "Target 108 first occurecnce in [-14, -10, 2, 108, 108, 243, 285, 285, 285, 401] : result index 5\n",
      "Target 285 first occurecnce in [-14, -10, 2, 108, 108, 243, 285, 285, 285, 401] : result index 6\n",
      "Target 285 first occurecnce in [-14, -10, 2, 108, 108, 243, 285, 285, 285, 401] : result index 9\n",
      "Target 285 first occurecnce in [-14, -10, 2, 108, 108, 243, 285, 285, 285, 401] : result index 9\n",
      "[-14, -10, 2, 108, 108, 243, 244, 285, 285, 285, 401]\n",
      "[-14, -10, 2, 108, 108, 243, 244, 244, 285, 285, 285, 401]\n"
     ]
    }
   ],
   "source": [
    "# Python's Bisect Method\n",
    "\n",
    "# Import allows us to make use of the bisect module.\n",
    "import bisect\n",
    "\n",
    "A1 = [-14, -10, 2, 108, 108, 243, 285, 285, 285, 401]\n",
    "target = 108\n",
    "\n",
    "print(f\"Target {target} first occurecnce in {A1} : result index {bisect.bisect_left(A1, target)}\")\n",
    "print(f\"Target {target} first occurecnce in {A1} : result index {bisect.bisect_right(A1, target)}\")\n",
    "# bisect acts equal to bisect_right\n",
    "print(f\"Target {target} first occurecnce in {A1} : result index {bisect.bisect(A1, target)}\")\n",
    "\n",
    "target = 285\n",
    "\n",
    "print(f\"Target {target} first occurecnce in {A1} : result index {bisect.bisect_left(A1, target)}\")\n",
    "print(f\"Target {target} first occurecnce in {A1} : result index {bisect.bisect_right(A1, target)}\")\n",
    "# bisect acts equal to bisect_right\n",
    "print(f\"Target {target} first occurecnce in {A1} : result index {bisect.bisect(A1, target)}\")\n",
    "\n",
    "bisect.insort_left(A1, 244)\n",
    "print(A1)\n",
    "\n",
    "bisect.insort_right(A1, 244)\n",
    "print(A1)\n",
    "\n",
    "\n",
    "\n",
    "\n",
    "\n"
   ]
  }
 ],
 "metadata": {
  "interpreter": {
   "hash": "7111a5d2cc490e67e5545c5cecb7321c04651756cdcfb8ee9a1a2c85cc7c6e80"
  },
  "kernelspec": {
   "display_name": "Python 3.10.1 64-bit ('3.10.1')",
   "language": "python",
   "name": "python3"
  },
  "language_info": {
   "codemirror_mode": {
    "name": "ipython",
    "version": 3
   },
   "file_extension": ".py",
   "mimetype": "text/x-python",
   "name": "python",
   "nbconvert_exporter": "python",
   "pygments_lexer": "ipython3",
   "version": "3.10.1"
  },
  "orig_nbformat": 4
 },
 "nbformat": 4,
 "nbformat_minor": 2
}
