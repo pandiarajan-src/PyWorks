{
 "cells": [
  {
   "cell_type": "code",
   "execution_count": null,
   "metadata": {},
   "outputs": [],
   "source": [
    "# Bitwise operator examples\n",
    "\n",
    "num1 = 10  # Binary value = 01010\n",
    "num2 = 20  # Binary Value = 10100\n",
    "\n",
    "print(num1 & num2)   # 0   -> Binary value = 00000\n",
    "print(num1 | num2)   # 30  -> Binary value = 11110\n",
    "print(num1 ^ num2)   # 30  -> Binary value = 11110\n",
    "print(~num1)         # -11 -> Binary value = -(1011)\n",
    "print(num1 << 3)     # 80  -> Binary value = 0101 0000\n",
    "print(num2 >> 3)     # 2   -> Binary value = 0010"
   ]
  },
  {
   "cell_type": "code",
   "execution_count": null,
   "metadata": {},
   "outputs": [],
   "source": [
    "# String comparisions\n",
    "\n",
    "\"\"\"\n",
    "Strings are compatible with the comparison operators. Each character has a Unicode value.\n",
    "This allows strings to be compared on the basis of their Unicode values.\n",
    "When two strings have different lengths, the string which comes first in the dictionary is said to have the smaller value.\n",
    "\"\"\"\n",
    "\n",
    "print('a' < 'b')  # 'a' has a smaller Unicode value\n",
    "\n",
    "house = \"Gryffindor\"\n",
    "house_copy = \"Gryffindor\"\n",
    "\n",
    "print(house == house_copy)\n",
    "\n",
    "new_house = \"Slytherin\"\n",
    "\n",
    "print(house == new_house)\n",
    "\n",
    "print(new_house <= house)\n",
    "\n",
    "print(new_house >= house)"
   ]
  },
  {
   "cell_type": "code",
   "execution_count": 3,
   "metadata": {},
   "outputs": [
    {
     "name": "stdout",
     "output_type": "stream",
     "text": [
      "False\n",
      "True\n"
     ]
    }
   ],
   "source": [
    "# String search\n",
    "\n",
    "\"\"\"\n",
    "The in keyword can be used to check if a particular substring exists in another string. \n",
    "If the substring is found, the operation returns true.\n",
    "\"\"\"\n",
    "\n",
    "random_string = \"This is a random string\"\n",
    "\n",
    "print('of' in random_string)  # Check whether 'of' exists in randomString\n",
    "print('random' in random_string)  # 'random' exists!"
   ]
  }
 ],
 "metadata": {
  "interpreter": {
   "hash": "7111a5d2cc490e67e5545c5cecb7321c04651756cdcfb8ee9a1a2c85cc7c6e80"
  },
  "kernelspec": {
   "display_name": "Python 3.10.1 64-bit ('3.10.1')",
   "language": "python",
   "name": "python3"
  },
  "language_info": {
   "codemirror_mode": {
    "name": "ipython",
    "version": 3
   },
   "file_extension": ".py",
   "mimetype": "text/x-python",
   "name": "python",
   "nbconvert_exporter": "python",
   "pygments_lexer": "ipython3",
   "version": "3.10.1"
  },
  "orig_nbformat": 4
 },
 "nbformat": 4,
 "nbformat_minor": 2
}
