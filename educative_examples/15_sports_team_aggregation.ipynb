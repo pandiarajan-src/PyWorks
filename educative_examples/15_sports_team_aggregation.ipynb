{
 "cells": [
  {
   "cell_type": "markdown",
   "metadata": {},
   "source": [
    "# Implementing a Sports Team!\n",
    "\n",
    "### Problem statement\n",
    "\n",
    "You have to implement 3 classes, School, Team, and Player, such that an instance of a School should contain instances of Team objects. Similarly, a Team object can contain instances of Player class."
   ]
  },
  {
   "cell_type": "code",
   "execution_count": 6,
   "metadata": {},
   "outputs": [
    {
     "name": "stdout",
     "output_type": "stream",
     "text": [
      "2\n",
      "2\n",
      "4\n"
     ]
    }
   ],
   "source": [
    "# Implementing a Sports Team!\n",
    "\n",
    "class School:\n",
    "    def __init__(self, name):\n",
    "        self.name = name\n",
    "        self.teams = []\n",
    "\n",
    "    def addTeam(self, team):\n",
    "        self.teams.append(team)\n",
    "\n",
    "    def getTotalPlayersInSchool(self):\n",
    "        return sum([t.getNumberOfPlayers() for t in self.teams ])\n",
    "\n",
    "\n",
    "class Team:\n",
    "    def __init__(self, name):\n",
    "        self.name = name\n",
    "        self.players = []\n",
    "\n",
    "    def addPlayer(self, player):\n",
    "        self.players.append(player)\n",
    "\n",
    "    def getNumberOfPlayers(self):\n",
    "        return len(self.players)\n",
    "\n",
    "class Player:\n",
    "    def __init__(self, ID, name, teamName):\n",
    "        self.ID = ID\n",
    "        self.name = name\n",
    "        self.teamName = teamName\n",
    "\n",
    "p1 = Player(1, \"Harris\", \"Red\")\n",
    "p2 = Player(2, \"Carol\", \"Red\")\n",
    "p3 = Player(1, \"Johnny\", \"Blue\")\n",
    "p4 = Player(2, \"Sarah\", \"Blue\")\n",
    "\n",
    "t1 = Team(\"Red\")\n",
    "t1.addPlayer(p1)\n",
    "t1.addPlayer(p2)\n",
    "print(t1.getNumberOfPlayers())\n",
    "\n",
    "t2 = Team(\"Blue\")\n",
    "t2.addPlayer(p3)\n",
    "t2.addPlayer(p4)\n",
    "print(t2.getNumberOfPlayers())\n",
    "\n",
    "s = School(\"Test\")\n",
    "s.addTeam(t1)\n",
    "s.addTeam(t2)\n",
    "print(s.getTotalPlayersInSchool())\n"
   ]
  }
 ],
 "metadata": {
  "interpreter": {
   "hash": "7111a5d2cc490e67e5545c5cecb7321c04651756cdcfb8ee9a1a2c85cc7c6e80"
  },
  "kernelspec": {
   "display_name": "Python 3.10.1 64-bit ('3.10.1')",
   "language": "python",
   "name": "python3"
  },
  "language_info": {
   "codemirror_mode": {
    "name": "ipython",
    "version": 3
   },
   "file_extension": ".py",
   "mimetype": "text/x-python",
   "name": "python",
   "nbconvert_exporter": "python",
   "pygments_lexer": "ipython3",
   "version": "3.10.1"
  },
  "orig_nbformat": 4
 },
 "nbformat": 4,
 "nbformat_minor": 2
}
