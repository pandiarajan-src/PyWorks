{
 "cells": [
  {
   "cell_type": "markdown",
   "metadata": {},
   "source": [
    "# Repetition and Concatenation\n",
    "\n",
    "In this exercise, you must implement the rep_cat function. You are given two integers, x and y, as arguments. \n",
    "You must convert them into strings. \n",
    "\n",
    "The string value of x must be repeated 10 times and the string value of y must be repeated 5 times.\n",
    "\n",
    "At the end, y will be concatenated to x and the resulting string must returned.\n",
    "\n",
    "## Sample input\n",
    "x = 3\n",
    "y = 4\n",
    "\n",
    "## Sample Output\n",
    "333333333344444"
   ]
  },
  {
   "cell_type": "code",
   "execution_count": 1,
   "metadata": {},
   "outputs": [
    {
     "name": "stdout",
     "output_type": "stream",
     "text": [
      "333333333344444\n"
     ]
    }
   ],
   "source": [
    "def rep_cat(x, y):\n",
    "    str_x = str(x) * 10\n",
    "    str_y = str(y) * 5\n",
    "    return str_x + str_y\n",
    "\n",
    "print(rep_cat(3, 4))"
   ]
  }
 ],
 "metadata": {
  "interpreter": {
   "hash": "7111a5d2cc490e67e5545c5cecb7321c04651756cdcfb8ee9a1a2c85cc7c6e80"
  },
  "kernelspec": {
   "display_name": "Python 3.10.1 64-bit ('3.10.1')",
   "language": "python",
   "name": "python3"
  },
  "language_info": {
   "codemirror_mode": {
    "name": "ipython",
    "version": 3
   },
   "file_extension": ".py",
   "mimetype": "text/x-python",
   "name": "python",
   "nbconvert_exporter": "python",
   "pygments_lexer": "ipython3",
   "version": "3.10.1"
  },
  "orig_nbformat": 4
 },
 "nbformat": 4,
 "nbformat_minor": 2
}
