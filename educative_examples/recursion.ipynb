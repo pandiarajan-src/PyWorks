{
 "cells": [
  {
   "cell_type": "markdown",
   "metadata": {},
   "source": [
    "# Recursion\n",
    "\n",
    "Recursion is the process in which a function calls itself during its execution. Each recursive call takes the program one scope deeper into the function.\n",
    "\n",
    "The recursive calls stop at the base case. The base case is a check used to indicate that there should be no further recursion.\n",
    "\n",
    "Imagine recursive calls as nested boxes where each box represents a function call. Each call makes a new box. When the base case is reached, we start moving out of the boxes one by one:"
   ]
  },
  {
   "cell_type": "code",
   "execution_count": null,
   "metadata": {},
   "outputs": [],
   "source": [
    "# A Simple Example of Recursion\n",
    "# Let’s write a function which decrements a number recursively until the number becomes 0:\n",
    "\n",
    "def rec_counter(n):\n",
    "    print(n)\n",
    "    if n == 0:\n",
    "        return 0\n",
    "    rec_counter(n-1) # # A recursive call with a different argument\n",
    "    print(n)\n",
    "\n",
    "rec_counter(15)\n"
   ]
  },
  {
   "cell_type": "markdown",
   "metadata": {},
   "source": [
    "This is fairly easy to understand. In each call, the value of the number variable is printed. We then check whether the base case has been fulfilled. If not, we make a recursive call to the function with the current value decremented.\n",
    "\n",
    "One thing to notice is that an outer call cannot move forward until all the inner recursive calls have finished. This is why we get a sequence of 5 to 0 to 5.\n",
    "\n",
    "# Why Use Recursion?\n",
    "\n",
    "Recursion is a concept which many find difficult to grasp at first, but it has its advantages. For starters, it can significantly reduce the runtime of certain algorithms, which makes the code more efficient.\n",
    "\n",
    "Recursion also allows us to easily solve many problems related to graphs and trees, things you may study in the future. It is also important in search algorithms.\n",
    "\n",
    "However, we need to be careful when using recursion. If we don’t specify an appropriate base case or update our arguments as we recurse, the program will reach infinite recursion and crash. The arguments passed to our recursive function are updated in each recursive call so that the base case can eventually be reached.\n"
   ]
  },
  {
   "cell_type": "code",
   "execution_count": 12,
   "metadata": {},
   "outputs": [
    {
     "data": {
      "text/plain": [
       "13"
      ]
     },
     "execution_count": 12,
     "metadata": {},
     "output_type": "execute_result"
    }
   ],
   "source": [
    "# Complex example of Recursion\n",
    "# Fibonacci series\n",
    "\n",
    "\"\"\"\n",
    "The Fibonacci sequence is a popular series of numbers in mathematics, where every number is the sum of the two numbers before it. \n",
    "The first two terms in the series are 0 and 1:\n",
    "\n",
    "Ex: 0 1 1 2 3 5 8 13\n",
    "\n",
    "\"\"\"\n",
    "\n",
    "def fib(n):\n",
    "    if n <= 1:\n",
    "        return 0\n",
    "    elif n == 2:\n",
    "        return 1\n",
    "    return fib(n-1) + fib(n-2)\n",
    "\n",
    "fib(8)\n"
   ]
  },
  {
   "cell_type": "markdown",
   "metadata": {},
   "source": [
    "First, we handle our base cases. We know that the first two values are always 0 and 1, so that is where we can stop our recursive calls.\n",
    "\n",
    "If n is larger than 2, then it will be the sum of the two values before it."
   ]
  },
  {
   "cell_type": "markdown",
   "metadata": {},
   "source": [
    "# Iteration vs. Recursion#\n",
    "\n",
    "If we observe closely, there are several similarities between iteration and recursion. In recursion, a function performs the same set of operations repeatedly but with different arguments.\n",
    "\n",
    "A loop does the same thing except that the value of the iterator and other variables in the loop’s body change in each iteration.\n",
    "\n",
    "Figuring out which approach to use is an intuitive process. Many problems can be solved through both.\n",
    "\n",
    "Recursion is useful when we need to divide data into different chunks. Iteration is useful for traversing data and also when we don’t want the program’s scope to change."
   ]
  }
 ],
 "metadata": {
  "interpreter": {
   "hash": "7111a5d2cc490e67e5545c5cecb7321c04651756cdcfb8ee9a1a2c85cc7c6e80"
  },
  "kernelspec": {
   "display_name": "Python 3.10.1 64-bit ('3.10.1')",
   "language": "python",
   "name": "python3"
  },
  "language_info": {
   "codemirror_mode": {
    "name": "ipython",
    "version": 3
   },
   "file_extension": ".py",
   "mimetype": "text/x-python",
   "name": "python",
   "nbconvert_exporter": "python",
   "pygments_lexer": "ipython3",
   "version": "3.10.1"
  },
  "orig_nbformat": 4
 },
 "nbformat": 4,
 "nbformat_minor": 2
}
