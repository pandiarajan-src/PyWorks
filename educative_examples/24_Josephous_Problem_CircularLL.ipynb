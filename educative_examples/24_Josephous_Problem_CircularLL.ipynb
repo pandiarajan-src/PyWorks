{
 "cells": [
  {
   "cell_type": "markdown",
   "metadata": {},
   "source": [
    "# Josephus Problem\n",
    "\n",
    "More details are here: https://www.youtube.com/watch?v=uCsD3ZGzMgE\n",
    "\n",
    "A counting-out game to randomly select one person from the group by singing a rhyme. </br>\n",
    "The purpose is to select one person, either as a straightforward winner, or as someone who is eliminated. </br> </br>\n",
    "\n",
    "In this problem, people are standing in one circle waiting to be executed.  </br>\n",
    "Following points list the specifications of Josephus problem: </br> </br>\n",
    "\n",
    "The counting out begins at a specified point in a circle and continues around the circle in a fixed direction. </br>\n",
    "In each step, a certain number of people are skipped and the next person is executed. </br>\n",
    "For example, if we have n people, and k−1 people are skipped every time, it means that the k th person is executed.  </br>\n",
    "Here, k is the step-size."
   ]
  },
  {
   "cell_type": "code",
   "execution_count": 8,
   "metadata": {},
   "outputs": [
    {
     "name": "stdout",
     "output_type": "stream",
     "text": [
      "1, 2, 3, 4, \n",
      "===============\n",
      "Going to run Josephous execution\n",
      "KILL 3\n",
      "KILL 2\n",
      "KILL 4\n",
      "The winner is: : 1, \n",
      "===============\n"
     ]
    }
   ],
   "source": [
    "# Josephus Problem\n",
    "\n",
    "from circular_linked_list import CircularLinkedList\n",
    "\n",
    "class JosephusCircularLinkedList(CircularLinkedList):\n",
    "    def __init__(self):\n",
    "        super().__init__()\n",
    "\n",
    "    def __find_a_node__(self, node):\n",
    "        if not node:\n",
    "            return (None, None)\n",
    "        if node == self.head:\n",
    "            last_node = super().__find_a_last_node__()\n",
    "            return (last_node, self.head)\n",
    "    \n",
    "        prev_node = None\n",
    "        curr_node = self.head\n",
    "        while curr_node and curr_node != node:\n",
    "            prev_node = curr_node\n",
    "            curr_node = curr_node.next\n",
    "            if curr_node == self.head:\n",
    "                curr_node = None\n",
    "                break\n",
    "\n",
    "        if not curr_node:\n",
    "            return (None, None)\n",
    "\n",
    "        return (prev_node, curr_node)\n",
    "\n",
    "    def remove(self, node):\n",
    "        prev_node, curr_node = self.__find_a_node__(node)\n",
    "        is_head = True if curr_node == self.head else False\n",
    "        if curr_node == prev_node: # There is only one entry in the cllst\n",
    "            self.head = None\n",
    "            curr_node = None\n",
    "        else:\n",
    "            prev_node.next = curr_node.next\n",
    "            curr_node = None\n",
    "            if is_head: # If the head is curr node then update the head\n",
    "                self.head = prev_node.next\n",
    "\n",
    "\n",
    "    def run_josephous_execution(self, step):\n",
    "        curr_node = self.head\n",
    "        length = len(self)\n",
    "        while length > 1:\n",
    "            count = 0\n",
    "            while count != step:\n",
    "                count += 1\n",
    "                curr_node = curr_node.next\n",
    "            print(f\"KILL {curr_node.data}\")\n",
    "            self.remove(curr_node)\n",
    "            length -= 1\n",
    "            curr_node = curr_node.next\n",
    "\n",
    "def josephous_winner_test():\n",
    "    lst = JosephusCircularLinkedList()\n",
    "    lst.append(1)\n",
    "    lst.append(2)\n",
    "    lst.append(3)\n",
    "    lst.append(4)\n",
    "    # lst.append(5)\n",
    "    # lst.append(6)\n",
    "    # lst.append(7)\n",
    "    lst.print_list()\n",
    "    print(\"Going to run Josephous execution\")\n",
    "    lst.run_josephous_execution(2)\n",
    "    print(\"The winner is: : \" , end=\"\")\n",
    "    lst.print_list()\n",
    "\n",
    "josephous_winner_test()\n"
   ]
  }
 ],
 "metadata": {
  "interpreter": {
   "hash": "7111a5d2cc490e67e5545c5cecb7321c04651756cdcfb8ee9a1a2c85cc7c6e80"
  },
  "kernelspec": {
   "display_name": "Python 3.10.1 64-bit ('3.10.1')",
   "language": "python",
   "name": "python3"
  },
  "language_info": {
   "codemirror_mode": {
    "name": "ipython",
    "version": 3
   },
   "file_extension": ".py",
   "mimetype": "text/x-python",
   "name": "python",
   "nbconvert_exporter": "python",
   "pygments_lexer": "ipython3",
   "version": "3.10.1"
  },
  "orig_nbformat": 4
 },
 "nbformat": 4,
 "nbformat_minor": 2
}
