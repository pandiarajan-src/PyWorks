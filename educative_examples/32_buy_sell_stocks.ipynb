{
 "cells": [
  {
   "cell_type": "markdown",
   "metadata": {},
   "source": [
    "# Buy and Sell Stock\n",
    "\n",
    "Given an array of numbers consisting of daily stock prices, calculate the maximum amount of profit that can be made from buying on one day and selling on another.</br>\n",
    "\n",
    "In an array of prices, each index represents a day, and the value on that index represents the price of the stocks on that day.</br>\n",
    "\n",
    "Profit = Selling Price - Buying Price </br>\n",
    "\n",
    "> Note that you need to buy the stocks before you sell them so the day (index) indicating the buying price should be before the day (index) indicating the selling price. </br>\n",
    "\n",
    "### Example\n",
    "> [310, 315, 277, 295, 260, 270, 290, 230, 255, 250] </br>\n",
    "> Best buyin price - 260 </br>\n",
    "> Best selling price - 290 </br>\n",
    "> Max profit - 30 </br>"
   ]
  },
  {
   "cell_type": "code",
   "execution_count": 7,
   "metadata": {},
   "outputs": [
    {
     "name": "stdout",
     "output_type": "stream",
     "text": [
      "Best Buy price: 260 - Best Sell price: 290 - Max Profit: 30\n",
      "Best Buy price: 260 - Best Sell price: 290 - Max Profit: 30\n"
     ]
    }
   ],
   "source": [
    "# Buy and Sell Stock\n",
    "\n",
    "# Brute force method\n",
    "# Takes O(n^2) time complexity\n",
    "def best_buy_sell_price_4_max_profit(stock_price):\n",
    "    best_buy = 0\n",
    "    best_sell = 0\n",
    "    max_profit = 0\n",
    "    length = len(stock_price)\n",
    "    for i in range(length):\n",
    "        curr_price = stock_price[i]\n",
    "        for j in range(i, length):\n",
    "            if curr_price < stock_price[j]:\n",
    "                profit = stock_price[j] - curr_price\n",
    "                if profit > max_profit:\n",
    "                    max_profit = profit\n",
    "                    best_buy = curr_price\n",
    "                    best_sell = stock_price[j]\n",
    "\n",
    "    return best_buy, best_sell, max_profit\n",
    "\n",
    "# Tracking Min Price\n",
    "# Takes O(n) time complexity\n",
    "def best_buy_sell_by_tracking_min(stock_prices):\n",
    "    min_price = float('inf')\n",
    "    max_profit = 0\n",
    "    best_buy = 0\n",
    "    best_sell = 0\n",
    "    for price in stock_prices:\n",
    "        min_price = min(min_price, price)\n",
    "        profit = price - min_price\n",
    "        if profit > max_profit:\n",
    "            max_profit = profit\n",
    "            best_buy = min_price\n",
    "            best_sell = price\n",
    "    return best_buy, best_sell, max_profit \n",
    "\n",
    "stock_price = [310, 315, 277, 295, 260, 270, 290, 230, 255, 250]\n",
    "best_buy, best_sell, max_profit = best_buy_sell_price_4_max_profit(stock_price)\n",
    "\n",
    "print(f\"Best Buy price: {best_buy} - Best Sell price: {best_sell} - Max Profit: {max_profit}\")\n",
    "\n",
    "best_buy, best_sell, max_profit = best_buy_sell_by_tracking_min(stock_price)\n",
    "print(f\"Best Buy price: {best_buy} - Best Sell price: {best_sell} - Max Profit: {max_profit}\")\n"
   ]
  }
 ],
 "metadata": {
  "interpreter": {
   "hash": "7111a5d2cc490e67e5545c5cecb7321c04651756cdcfb8ee9a1a2c85cc7c6e80"
  },
  "kernelspec": {
   "display_name": "Python 3.10.1 64-bit ('3.10.1')",
   "language": "python",
   "name": "python3"
  },
  "language_info": {
   "codemirror_mode": {
    "name": "ipython",
    "version": 3
   },
   "file_extension": ".py",
   "mimetype": "text/x-python",
   "name": "python",
   "nbconvert_exporter": "python",
   "pygments_lexer": "ipython3",
   "version": "3.10.1"
  },
  "orig_nbformat": 4
 },
 "nbformat": 4,
 "nbformat_minor": 2
}
