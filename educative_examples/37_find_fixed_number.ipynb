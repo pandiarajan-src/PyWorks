{
 "cells": [
  {
   "cell_type": "markdown",
   "metadata": {},
   "source": [
    "# Find a fixed number\n",
    "\n",
    "Given an array of n, n distinct integers sorted in ascending order, write a function that returns a fixed point in the array. If there is not a fixed point, return None.\n",
    "\n",
    "> A fixed point in an array A is an index i such that A[i] is equal to i.\n"
   ]
  },
  {
   "cell_type": "code",
   "execution_count": 2,
   "metadata": {},
   "outputs": [
    {
     "name": "stdout",
     "output_type": "stream",
     "text": [
      "[-10, -5, 0, 3, 7] has fixed number: 3\n",
      "[0, 2, 5, 8, 17] has fixed number: 0\n",
      "[-10, -5, 3, 4, 7, 9] has fixed number: None\n",
      "[-10, -5, 0, 3, 7] has fixed number: 3\n",
      "[0, 2, 5, 8, 17] has fixed number: 0\n",
      "[-10, -5, 3, 4, 7, 9] has fixed number: None\n"
     ]
    }
   ],
   "source": [
    "# Find a fixed number\n",
    "\n",
    "# Time complexity O(n) and space complexity O(1)\n",
    "def find_fixed_naive(numbers):\n",
    "    for i in range(len(numbers)):\n",
    "        if i == numbers[i]:\n",
    "            return i\n",
    "\n",
    "# Time complexity O(log(n)) and space complexity O(1)\n",
    "def find_fixed_by_binary_search(numbers):\n",
    "    numbers = sorted(numbers)\n",
    "    low = 0\n",
    "    high = len(numbers)-1\n",
    "    while low <= high:\n",
    "        mid = (low+high)//2\n",
    "        if numbers[mid] < mid:\n",
    "            low = mid + 1\n",
    "        elif numbers[mid] > mid:\n",
    "            high = mid - 1\n",
    "        else:\n",
    "            return numbers[mid]\n",
    "    return None\n",
    "\n",
    "A1 = [-10, -5, 0, 3, 7]\n",
    "A2 = [0, 2, 5, 8, 17]\n",
    "A3 = [-10, -5, 3, 4, 7, 9]\n",
    "\n",
    "\n",
    "print(f\"{A1} has fixed number: {find_fixed_naive(A1)}\")\n",
    "print(f\"{A2} has fixed number: {find_fixed_naive(A2)}\")\n",
    "print(f\"{A3} has fixed number: {find_fixed_naive(A3)}\")\n",
    "\n",
    "\n",
    "print(f\"{A1} has fixed number: {find_fixed_by_binary_search(A1)}\")\n",
    "print(f\"{A2} has fixed number: {find_fixed_by_binary_search(A2)}\")\n",
    "print(f\"{A3} has fixed number: {find_fixed_by_binary_search(A3)}\")\n",
    "\n"
   ]
  }
 ],
 "metadata": {
  "interpreter": {
   "hash": "7111a5d2cc490e67e5545c5cecb7321c04651756cdcfb8ee9a1a2c85cc7c6e80"
  },
  "kernelspec": {
   "display_name": "Python 3.10.1 64-bit ('3.10.1')",
   "language": "python",
   "name": "python3"
  },
  "language_info": {
   "codemirror_mode": {
    "name": "ipython",
    "version": 3
   },
   "file_extension": ".py",
   "mimetype": "text/x-python",
   "name": "python",
   "nbconvert_exporter": "python",
   "pygments_lexer": "ipython3",
   "version": "3.10.1"
  },
  "orig_nbformat": 4
 },
 "nbformat": 4,
 "nbformat_minor": 2
}
