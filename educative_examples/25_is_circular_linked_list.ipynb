{
 "cells": [
  {
   "cell_type": "markdown",
   "metadata": {},
   "source": [
    "# Determine whether the given list is circular or singly linked list"
   ]
  },
  {
   "cell_type": "code",
   "execution_count": 3,
   "metadata": {},
   "outputs": [
    {
     "name": "stdout",
     "output_type": "stream",
     "text": [
      "10, 20, \n",
      "===============\n",
      "Expecting that is_circular_linked_list returns : True\n",
      "10\n",
      "20\n",
      "Expecting that is_circular_linked_list returns : False\n"
     ]
    }
   ],
   "source": [
    "# Determine whether the given list is circular or singly linked list\n",
    "\n",
    "from circular_linked_list import CircularLinkedList\n",
    "from singly_linked_list import LinkedList\n",
    "\n",
    "def is_circular_linked_list(input_list):\n",
    "    curr_node = input_list.head\n",
    "    while curr_node:\n",
    "        if not curr_node.next:\n",
    "            return False\n",
    "        if curr_node.next == input_list.head:\n",
    "            return True\n",
    "        curr_node = curr_node.next\n",
    "    return False\n",
    "\n",
    "def test():\n",
    "    cllst = CircularLinkedList()\n",
    "    cllst.append(10)\n",
    "    cllst.append(20)\n",
    "    cllst.print_list()\n",
    "    print(f\"Expecting that is_circular_linked_list returns : {is_circular_linked_list(cllst)}\")\n",
    "    llst = LinkedList()\n",
    "    llst.append(10)\n",
    "    llst.append(20)\n",
    "    llst.print_list()\n",
    "    print(f\"Expecting that is_circular_linked_list returns : {is_circular_linked_list(llst)}\")    \n",
    "\n",
    "test()"
   ]
  }
 ],
 "metadata": {
  "interpreter": {
   "hash": "7111a5d2cc490e67e5545c5cecb7321c04651756cdcfb8ee9a1a2c85cc7c6e80"
  },
  "kernelspec": {
   "display_name": "Python 3.10.1 64-bit ('3.10.1')",
   "language": "python",
   "name": "python3"
  },
  "language_info": {
   "codemirror_mode": {
    "name": "ipython",
    "version": 3
   },
   "file_extension": ".py",
   "mimetype": "text/x-python",
   "name": "python",
   "nbconvert_exporter": "python",
   "pygments_lexer": "ipython3",
   "version": "3.10.1"
  },
  "orig_nbformat": 4
 },
 "nbformat": 4,
 "nbformat_minor": 2
}
