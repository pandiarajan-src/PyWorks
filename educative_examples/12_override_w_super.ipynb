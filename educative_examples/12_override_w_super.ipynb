{
 "cells": [
  {
   "cell_type": "markdown",
   "metadata": {},
   "source": [
    "# Override a Method Using the Super Function\n",
    "\n",
    "### Problem statement\n",
    "When a method in a derived class overrides a method in a base class, \n",
    "it is still possible to call the overridden method using the super() function.\n",
    "\n",
    "> If you write super().method(), it will call the method that was defined in the superclass.\n",
    "\n"
   ]
  },
  {
   "cell_type": "code",
   "execution_count": 13,
   "metadata": {},
   "outputs": [
    {
     "name": "stdout",
     "output_type": "stream",
     "text": [
      "Shape, Circle\n"
     ]
    }
   ],
   "source": [
    "# Override a Method Using the Super Function\n",
    "\n",
    "class Shape:\n",
    "    def __init__(self):\n",
    "        self.sname = \"Shape\"\n",
    "\n",
    "    def getName(self):\n",
    "        return self.sname\n",
    "\n",
    "class XShape(Shape):\n",
    "    def __init__(self, xsname):\n",
    "        super().__init__()\n",
    "        self.xsname = xsname\n",
    "    \n",
    "    def getName(self):\n",
    "        return super().getName() + \", \"+ self.xsname\n",
    "\n",
    "circle = XShape(\"Circle\");\n",
    "print(circle.getName())"
   ]
  }
 ],
 "metadata": {
  "interpreter": {
   "hash": "7111a5d2cc490e67e5545c5cecb7321c04651756cdcfb8ee9a1a2c85cc7c6e80"
  },
  "kernelspec": {
   "display_name": "Python 3.10.1 64-bit ('3.10.1')",
   "language": "python",
   "name": "python3"
  },
  "language_info": {
   "codemirror_mode": {
    "name": "ipython",
    "version": 3
   },
   "file_extension": ".py",
   "mimetype": "text/x-python",
   "name": "python",
   "nbconvert_exporter": "python",
   "pygments_lexer": "ipython3",
   "version": "3.10.1"
  },
  "orig_nbformat": 4
 },
 "nbformat": 4,
 "nbformat_minor": 2
}
