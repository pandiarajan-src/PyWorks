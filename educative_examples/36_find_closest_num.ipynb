{
 "cells": [
  {
   "cell_type": "markdown",
   "metadata": {},
   "source": [
    "# Find the closest number"
   ]
  },
  {
   "cell_type": "code",
   "execution_count": 5,
   "metadata": {},
   "outputs": [
    {
     "name": "stdout",
     "output_type": "stream",
     "text": [
      "Find closest to 3 in [1, 2, 4, 5, 6, 6, 8, 9] : 4\n",
      "Find closest to 4 in [2, 5, 6, 7, 8, 8, 9] : 5\n"
     ]
    }
   ],
   "source": [
    "# Find the closest number\n",
    "\n",
    "def find_closest_number(data, target):\n",
    "    data = sorted(data)\n",
    "    if len(data) == 0:\n",
    "        return None\n",
    "    if len(data) == 1:\n",
    "        return data[0]\n",
    "\n",
    "    low = 0\n",
    "    high = len(data)-1\n",
    "    min_diff = min_diff_left = min_diff_right = float(\"inf\")\n",
    "    closest_num = 0\n",
    "    while low <= high:\n",
    "        mid = (low+high)//2\n",
    "\n",
    "        if mid+1 < len(data):\n",
    "            min_diff_right = abs(data[mid+1] - target)\n",
    "        if mid > 0:\n",
    "            min_diff_left = abs(data[mid-1] - target)\n",
    "\n",
    "        if min_diff_left < min_diff:\n",
    "            min_diff = min_diff_left\n",
    "            closest_num = data[mid-1]\n",
    "        if min_diff_right < min_diff:\n",
    "            min_diff = min_diff_right\n",
    "            closest_num = data[mid+1]\n",
    "\n",
    "        if data[mid] == target:\n",
    "            return target\n",
    "        elif data[mid] > target:\n",
    "            high = mid - 1\n",
    "            if high < 0:\n",
    "                return data[mid]\n",
    "        else:\n",
    "            low = mid + 1\n",
    "    return closest_num\n",
    "\n",
    "\n",
    "A1 = [1, 2, 4, 5, 6, 6, 8, 9]\n",
    "A2 = [2, 5, 6, 7, 8, 8, 9]\n",
    "print(f\"Find closest to 3 in {A1} : {find_closest_number(A1, 3)}\")\n",
    "print(f\"Find closest to 4 in {A2} : {find_closest_number(A2, 4)}\")"
   ]
  }
 ],
 "metadata": {
  "interpreter": {
   "hash": "7111a5d2cc490e67e5545c5cecb7321c04651756cdcfb8ee9a1a2c85cc7c6e80"
  },
  "kernelspec": {
   "display_name": "Python 3.10.1 64-bit ('3.10.1')",
   "language": "python",
   "name": "python3"
  },
  "language_info": {
   "codemirror_mode": {
    "name": "ipython",
    "version": 3
   },
   "file_extension": ".py",
   "mimetype": "text/x-python",
   "name": "python",
   "nbconvert_exporter": "python",
   "pygments_lexer": "ipython3",
   "version": "3.10.1"
  },
  "orig_nbformat": 4
 },
 "nbformat": 4,
 "nbformat_minor": 2
}
