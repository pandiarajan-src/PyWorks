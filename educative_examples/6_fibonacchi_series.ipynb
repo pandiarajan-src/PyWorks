{
 "cells": [
  {
   "cell_type": "markdown",
   "metadata": {},
   "source": [
    "# Fibonacchi Series\n",
    "\n",
    "### Problem Statement\n",
    "As we saw earlier, the Fibonacci sequence is a series of numbers where every number is the sum of the two numbers before it. \n",
    "The first two numbers are 0 and 1:\n",
    "\n",
    "0 1 1 2 3 5 8 13\n",
    "\n",
    "You must write the fib() function which takes in a positive integer, n, and returns the n-th Fibonacci number. \n",
    "However, instead of using recursion, your function must use any of the loops.\n",
    "\n",
    "### Sample Input\n",
    "n = 7\n",
    "\n",
    "### Sample Output\n",
    "8\n"
   ]
  },
  {
   "cell_type": "code",
   "execution_count": 9,
   "metadata": {},
   "outputs": [
    {
     "name": "stdout",
     "output_type": "stream",
     "text": [
      "8\n",
      "8\n"
     ]
    }
   ],
   "source": [
    "# Fibonachi Series\n",
    "\n",
    "def fib(n):\n",
    "    if n <= 1:\n",
    "        return 0\n",
    "    elif n == 2:\n",
    "        return 1\n",
    "    else:\n",
    "        return fib(n-1) + fib(n-2)\n",
    "\n",
    "def fib_loop(n):\n",
    "    # The first and second values will always be fixed\n",
    "    first = 0\n",
    "    second = 1\n",
    "\n",
    "    if n < 1:\n",
    "        return -1\n",
    "\n",
    "    if n == 1:\n",
    "        return first\n",
    "\n",
    "    if n == 2:\n",
    "        return second\n",
    "\n",
    "    count = 3  # Starting from 3 because we already know the first two values\n",
    "    while count <= n:\n",
    "        fib_n = first + second\n",
    "        first = second\n",
    "        second = fib_n\n",
    "        count += 1  # Increment count in each iteration\n",
    "    return fib_n\n",
    "\n",
    "print( fib(7) )\n",
    "print( fib_loop(7) )\n"
   ]
  }
 ],
 "metadata": {
  "interpreter": {
   "hash": "7111a5d2cc490e67e5545c5cecb7321c04651756cdcfb8ee9a1a2c85cc7c6e80"
  },
  "kernelspec": {
   "display_name": "Python 3.10.1 64-bit ('3.10.1')",
   "language": "python",
   "name": "python3"
  },
  "language_info": {
   "codemirror_mode": {
    "name": "ipython",
    "version": 3
   },
   "file_extension": ".py",
   "mimetype": "text/x-python",
   "name": "python",
   "nbconvert_exporter": "python",
   "pygments_lexer": "ipython3",
   "version": "3.10.1"
  },
  "orig_nbformat": 4
 },
 "nbformat": 4,
 "nbformat_minor": 2
}
