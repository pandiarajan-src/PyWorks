{
 "cells": [
  {
   "cell_type": "markdown",
   "metadata": {},
   "source": [
    "# Lambda\n",
    "\n",
    "A lambda is an anonymous function that returns some form of data.\n",
    "\n",
    "Lambdas are defined using the lambda keyword. Since they return data, it is a good practice to assign them to a variable.\n",
    "\n",
    "lambda parameters : expression\n",
    "\n",
    "parameters can be comma seperated value or it can be empty as well\n",
    "\n"
   ]
  },
  {
   "cell_type": "code",
   "execution_count": 1,
   "metadata": {},
   "outputs": [
    {
     "name": "stdout",
     "output_type": "stream",
     "text": [
      "30\n"
     ]
    }
   ],
   "source": [
    "# find a lambda that triples the value of the parameter and returns this new value:\n",
    "triple = lambda num : num * 3  # Assigning the lambda to a variable\n",
    "\n",
    "print(triple(10))  # Calling the lambda and giving it a parameter"
   ]
  },
  {
   "cell_type": "code",
   "execution_count": 2,
   "metadata": {},
   "outputs": [
    {
     "name": "stdout",
     "output_type": "stream",
     "text": [
      "WWW\n"
     ]
    }
   ],
   "source": [
    "# Here’s a simple lambda that concatenates the first characters of three strings together:\n",
    "\n",
    "concat_strings = lambda a, b, c: a[0] + b[0] + c[0]\n",
    "\n",
    "print(concat_strings(\"World\", \"Wide\", \"Web\"))\n"
   ]
  },
  {
   "cell_type": "markdown",
   "metadata": {},
   "source": [
    "As we can see, lambdas are simpler and more readable than normal functions. But this simplicity comes with a limitation.\n",
    "\n",
    "A lambda cannot have a multi-line expression. This means that our expression needs to be something that can be written in a single line.\n",
    "\n",
    "Hence, lambdas are perfect for short, single-line functions.\n",
    "\n",
    "We can also use conditional statements within lambdas:"
   ]
  },
  {
   "cell_type": "code",
   "execution_count": 3,
   "metadata": {},
   "outputs": [
    {
     "name": "stdout",
     "output_type": "stream",
     "text": [
      "High\n"
     ]
    }
   ],
   "source": [
    "# conditional statements within lambdas\n",
    "my_func = lambda num: \"High\" if num > 50 else \"Low\"\n",
    "\n",
    "print(my_func(60))"
   ]
  },
  {
   "cell_type": "markdown",
   "metadata": {},
   "source": [
    "When using conditional statements in lambdas, the if-else pair is necessary. Both cases need to be covered, otherwise, the lambda will throw an error:"
   ]
  },
  {
   "cell_type": "code",
   "execution_count": 4,
   "metadata": {},
   "outputs": [
    {
     "ename": "SyntaxError",
     "evalue": "expected 'else' after 'if' expression (313475100.py, line 1)",
     "output_type": "error",
     "traceback": [
      "\u001b[0;36m  File \u001b[0;32m\"/var/folders/13/gjnmhxm556s20zr2797vs4w00000gn/T/ipykernel_16230/313475100.py\"\u001b[0;36m, line \u001b[0;32m1\u001b[0m\n\u001b[0;31m    my_func = lambda num: \"High\" if num > 50\u001b[0m\n\u001b[0m                          ^\u001b[0m\n\u001b[0;31mSyntaxError\u001b[0m\u001b[0;31m:\u001b[0m expected 'else' after 'if' expression\n"
     ]
    }
   ],
   "source": [
    "my_func = lambda num: \"High\" if num > 50"
   ]
  },
  {
   "cell_type": "markdown",
   "metadata": {},
   "source": [
    "# The Purpose of Lambdas#\n",
    "\n",
    "So, what is the point of having lambdas around? We’re still assigning them to variables, so they do have names.\n",
    "\n",
    "They can be written in-line, but that isn’t a huge advantage.\n",
    "\n",
    "Well, lambdas are really useful when a function requires another function as its argument."
   ]
  },
  {
   "cell_type": "code",
   "execution_count": 5,
   "metadata": {},
   "outputs": [
    {
     "name": "stdout",
     "output_type": "stream",
     "text": [
      "200\n",
      "30\n"
     ]
    }
   ],
   "source": [
    "# Functions as Arguments\n",
    "# Let’s make a calculator function that requires the add, subtract, multiply, or divide function along with two numbers as arguments.\n",
    "\n",
    "def add(n1, n2):\n",
    "    return n1 + n2\n",
    "\n",
    "\n",
    "def subtract(n1, n2):\n",
    "    return n1 - n2\n",
    "\n",
    "\n",
    "def multiply(n1, n2):\n",
    "    return n1 * n2\n",
    "\n",
    "\n",
    "def divide(n1, n2):\n",
    "    return n1 / n2\n",
    "\n",
    "\n",
    "def calculator(operation, n1, n2):\n",
    "    return operation(n1, n2)  # Using the 'operation' argument as a function\n",
    "\n",
    "\n",
    "result = calculator(multiply, 10, 20)\n",
    "print(result)\n",
    "print(calculator(add, 10, 20))"
   ]
  },
  {
   "cell_type": "code",
   "execution_count": 6,
   "metadata": {},
   "outputs": [
    {
     "name": "stdout",
     "output_type": "stream",
     "text": [
      "200\n",
      "30\n"
     ]
    }
   ],
   "source": [
    "# Using lambda of the same above funciton, passing lambda as one line function\n",
    "\n",
    "def calculator(operation, n1, n2):\n",
    "    return operation(n1, n2)  # Using the 'operation' argument as a function\n",
    "\n",
    "\n",
    "# 10 and 20 are the arguments.\n",
    "result = calculator(lambda n1, n2: n1 * n2, 10, 20)\n",
    "# The lambda multiplies them.\n",
    "print(result)\n",
    "\n",
    "print(calculator(lambda n1, n2: n1 + n2, 10, 20))\n"
   ]
  },
  {
   "cell_type": "markdown",
   "metadata": {},
   "source": [
    "The code looks much shorter now! We can define the operation on the go whenever we want.\n",
    "\n",
    "This is the beauty of lambdas. They work really well as arguments for other functions."
   ]
  },
  {
   "cell_type": "markdown",
   "metadata": {},
   "source": [
    "# More Examples\n",
    "\n",
    "The built-in map() function creates a map object using an existing list and a function as its parameters. This object can be converted to a list using the list() function (more on this later).\n",
    "\n",
    "The template for map() is as follows:\n",
    "\n",
    "***map(function, list)***\n",
    "\n",
    "The function will be applied, or mapped, to all the elements of the list.\n",
    "\n",
    "Below, we’ll use map() to double the values of an existing list:"
   ]
  },
  {
   "cell_type": "code",
   "execution_count": 8,
   "metadata": {},
   "outputs": [
    {
     "name": "stdout",
     "output_type": "stream",
     "text": [
      "[0, 2, 4, 6, 8, 10, 12, 14, 16, 18]\n"
     ]
    }
   ],
   "source": [
    "num_list = [0, 1, 2, 3, 4, 5, 6, 7, 8, 9]\n",
    "\n",
    "double_list = map(lambda n : n * 2, num_list)\n",
    "\n",
    "print(list(double_list))"
   ]
  },
  {
   "cell_type": "markdown",
   "metadata": {},
   "source": [
    "Another similar example is the filter() function. It requires a function and a list.\n",
    "\n",
    "filter() filters elements from a list if the elements satisfy the condition that is specified in the argument function.\n",
    "\n",
    "Let’s write a filter() function that filters all the elements which are greater than 10:"
   ]
  },
  {
   "cell_type": "code",
   "execution_count": 10,
   "metadata": {},
   "outputs": [
    {
     "name": "stdout",
     "output_type": "stream",
     "text": [
      "[255, 90, 89, 76, 45]\n"
     ]
    }
   ],
   "source": [
    "num_list = [10, -3, 255, 3, 4, 90, 89, 76, 5, 1, 45, -9]\n",
    "\n",
    "list_ge_10 = filter(lambda n : n > 10, num_list)\n",
    "print(list(list_ge_10))"
   ]
  }
 ],
 "metadata": {
  "interpreter": {
   "hash": "7111a5d2cc490e67e5545c5cecb7321c04651756cdcfb8ee9a1a2c85cc7c6e80"
  },
  "kernelspec": {
   "display_name": "Python 3.10.1 64-bit ('3.10.1')",
   "language": "python",
   "name": "python3"
  },
  "language_info": {
   "codemirror_mode": {
    "name": "ipython",
    "version": 3
   },
   "file_extension": ".py",
   "mimetype": "text/x-python",
   "name": "python",
   "nbconvert_exporter": "python",
   "pygments_lexer": "ipython3",
   "version": "3.10.1"
  },
  "orig_nbformat": 4
 },
 "nbformat": 4,
 "nbformat_minor": 2
}
