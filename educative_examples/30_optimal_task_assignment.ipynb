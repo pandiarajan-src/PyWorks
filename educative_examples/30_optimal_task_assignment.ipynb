{
 "cells": [
  {
   "cell_type": "markdown",
   "metadata": {},
   "source": [
    "# Optimal Task Assignment\n",
    "\n",
    "Assign tasks to workers so that the time it takes to complete all the tasks is minimized given a count of workers and an array where each element indicates the duration of a task.</br>\n",
    "\n",
    "We wish to determine the optimal way in which to assign tasks to some workers. Each worker must work on exactly two tasks. Tasks are independent of each other, and each task takes a certain amount of time.</br>\n",
    "\n",
    "In the slides below, we have been given an array of tasks where the value of each element in the array corresponds to the number of hours required for each task.</br>\n",
    "\n",
    "### Example:\n",
    "> Input - 3 workers </br>\n",
    "> Task duration in array = [6, 3, 2, 7, 5, 5]</br>\n",
    "> W1 - (6,3)</br>\n",
    "> W2 - (2,7)</br>\n",
    "> W3 - (5,5)</br>\n",
    "> Max duration to wait = max([6,3], [2,7], [5,5]) = 10</br>"
   ]
  },
  {
   "cell_type": "code",
   "execution_count": 3,
   "metadata": {},
   "outputs": [
    {
     "name": "stdout",
     "output_type": "stream",
     "text": [
      "Worker 0 gets (2, 7)\n",
      "Worker 1 gets (3, 6)\n",
      "Worker 2 gets (5, 5)\n",
      "Max duration to be waited to complete all the jobs : 10\n",
      "Worker 0 gets (1, 4)\n",
      "Worker 1 gets (2, 3)\n",
      "Max duration to be waited to complete all the jobs : 5\n",
      "Given tasks list [2] can't be assigned to 2 workers equally\n"
     ]
    }
   ],
   "source": [
    "# Optimal Task Assignment\n",
    "\n",
    "def optimal_task_assignment(number_of_workers, list_of_tasks):\n",
    "    if (len(list_of_tasks) % number_of_workers) > 0:\n",
    "        print(f\"Given tasks list {list_of_tasks} can't be assigned to {number_of_workers} workers equally\")\n",
    "        return\n",
    "    sorted_list_of_tasks = sorted(list_of_tasks)\n",
    "    length = len(sorted_list_of_tasks)\n",
    "    total_duration_list = []\n",
    "    for i in range(number_of_workers):\n",
    "        print(f\"Worker {i} gets ({sorted_list_of_tasks[i]}, {sorted_list_of_tasks[~i]})\")\n",
    "        total_duration_list.append(sorted_list_of_tasks[i] + sorted_list_of_tasks[~i])\n",
    "    print(f\"Max duration to be waited to complete all the jobs : {max(total_duration_list)}\")\n",
    "\n",
    "optimal_task_assignment(3, [6,3,2,7,5,5])\n",
    "optimal_task_assignment(2, [4,3,2,1])\n",
    "optimal_task_assignment(2, [2])\n",
    "\n"
   ]
  }
 ],
 "metadata": {
  "interpreter": {
   "hash": "7111a5d2cc490e67e5545c5cecb7321c04651756cdcfb8ee9a1a2c85cc7c6e80"
  },
  "kernelspec": {
   "display_name": "Python 3.10.1 64-bit ('3.10.1')",
   "language": "python",
   "name": "python3"
  },
  "language_info": {
   "codemirror_mode": {
    "name": "ipython",
    "version": 3
   },
   "file_extension": ".py",
   "mimetype": "text/x-python",
   "name": "python",
   "nbconvert_exporter": "python",
   "pygments_lexer": "ipython3",
   "version": "3.10.1"
  },
  "orig_nbformat": 4
 },
 "nbformat": 4,
 "nbformat_minor": 2
}
