{
 "cells": [
  {
   "cell_type": "code",
   "execution_count": 2,
   "metadata": {},
   "outputs": [
    {
     "name": "stdout",
     "output_type": "stream",
     "text": [
      "2\n",
      "4\n",
      "16\n",
      "256\n",
      "<class 'generator'>\n"
     ]
    }
   ],
   "source": [
    "def doubler_generator():\n",
    "    number = 2\n",
    "    while True:\n",
    "        yield number\n",
    "        number *= number\n",
    "\n",
    "doubler = doubler_generator()\n",
    "print (next(doubler))\n",
    "#2\n",
    "\n",
    "print (next(doubler))\n",
    "#4\n",
    "\n",
    "print (next(doubler))\n",
    "#16\n",
    "\n",
    "\n",
    "print (next(doubler))\n",
    "#256\n",
    "\n",
    "print (type(doubler))\n",
    "#<class 'generator'>"
   ]
  }
 ],
 "metadata": {
  "interpreter": {
   "hash": "7111a5d2cc490e67e5545c5cecb7321c04651756cdcfb8ee9a1a2c85cc7c6e80"
  },
  "kernelspec": {
   "display_name": "Python 3.10.1 64-bit ('3.10.1')",
   "language": "python",
   "name": "python3"
  },
  "language_info": {
   "codemirror_mode": {
    "name": "ipython",
    "version": 3
   },
   "file_extension": ".py",
   "mimetype": "text/x-python",
   "name": "python",
   "nbconvert_exporter": "python",
   "pygments_lexer": "ipython3",
   "version": "3.10.1"
  },
  "orig_nbformat": 4
 },
 "nbformat": 4,
 "nbformat_minor": 2
}
