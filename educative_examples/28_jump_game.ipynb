{
 "cells": [
  {
   "cell_type": "markdown",
   "metadata": {},
   "source": [
    "# Array advance or Jump game"
   ]
  },
  {
   "cell_type": "code",
   "execution_count": 2,
   "metadata": {},
   "outputs": [
    {
     "name": "stdout",
     "output_type": "stream",
     "text": [
      "[1, 3, 1, 0, 2, 0, 1] Jump to end : True\n",
      "[1, 3, 1, 0, 2, 0, 1] Jump to end : True\n",
      "[3, 3, 1, 0, 2, 0, 1] Jump to end : True\n",
      "[3, 3, 1, 0, 2, 0, 1] Jump to end : False\n",
      "[3, 2, 0, 0, 2, 0, 1] Jump to end : False\n",
      "[3, 2, 0, 0, 2, 0, 1] Jump to end : False\n"
     ]
    }
   ],
   "source": [
    "def is_jump_to_end_possible_greedy(array_input):\n",
    "    index = 0\n",
    "    last_index = len(array_input)-1\n",
    "    while index <= last_index:\n",
    "        prev_index = index\n",
    "        index = index + array_input[index]\n",
    "        if prev_index == index:\n",
    "            break\n",
    "    return index >= last_index\n",
    "    pass\n",
    "\n",
    "def is_jump_to_end_possible_dynamic(array_input):\n",
    "    index = 0\n",
    "    furthest = 0\n",
    "    last_index = len(array_input) - 1\n",
    "    while index <= furthest and furthest < last_index:\n",
    "        furthest = max(furthest, array_input[index] + index)\n",
    "        index += 1\n",
    "    return furthest >= last_index\n",
    "\n",
    "def is_jump_to_end_possible_test():\n",
    "    X = [1, 3, 1, 0, 2, 0, 1]\n",
    "    print(f\"{X} Jump to end : {is_jump_to_end_possible_dynamic(X)}\")\n",
    "    print(f\"{X} Jump to end : {is_jump_to_end_possible_greedy(X)}\")\n",
    "\n",
    "    A = [3, 3, 1, 0, 2, 0, 1]\n",
    "    print(f\"{A} Jump to end : {is_jump_to_end_possible_dynamic(A)}\")\n",
    "    print(f\"{A} Jump to end : {is_jump_to_end_possible_greedy(A)}\")\n",
    "\n",
    "    B = [3, 2, 0, 0, 2, 0, 1]\n",
    "    print(f\"{B} Jump to end : {is_jump_to_end_possible_dynamic(B)}\")   \n",
    "    print(f\"{B} Jump to end : {is_jump_to_end_possible_greedy(B)}\")    \n",
    "\n",
    "    pass\n",
    "\n",
    "is_jump_to_end_possible_test()"
   ]
  }
 ],
 "metadata": {
  "interpreter": {
   "hash": "7111a5d2cc490e67e5545c5cecb7321c04651756cdcfb8ee9a1a2c85cc7c6e80"
  },
  "kernelspec": {
   "display_name": "Python 3.10.1 64-bit ('3.10.1')",
   "language": "python",
   "name": "python3"
  },
  "language_info": {
   "codemirror_mode": {
    "name": "ipython",
    "version": 3
   },
   "file_extension": ".py",
   "mimetype": "text/x-python",
   "name": "python",
   "nbconvert_exporter": "python",
   "pygments_lexer": "ipython3",
   "version": "3.10.1"
  },
  "orig_nbformat": 4
 },
 "nbformat": 4,
 "nbformat_minor": 2
}
