{
 "cells": [
  {
   "cell_type": "markdown",
   "metadata": {},
   "source": [
    "# Cyclically Shifted Array \n",
    "\n",
    "You are required to write a function that determines the index of the smallest element of the cyclically shifted array.</br>\n",
    "An array is “cyclically shifted” if it is possible to shift its entries cyclically so that it becomes sorted.</br>\n",
    "\n",
    "The following list is an example of a cyclically shifted array:</br>\n",
    ">  A = [4, 5, 6, 7, 1, 2, 3] </br>\n",
    "\n"
   ]
  },
  {
   "cell_type": "code",
   "execution_count": 8,
   "metadata": {},
   "outputs": [
    {
     "name": "stdout",
     "output_type": "stream",
     "text": [
      "Smallest element in this Cyclically shifted array [4, 5, 6, 7, 1, 2, 3] is : 4\n",
      "Smallest element in this Cyclically shifted array [4, 5, 6, 7, 1, 2, 3] is : 4\n",
      "Smallest element in this Cyclically shifted array [2, 3, 4, 5, 6, 7, 1] is : 6\n",
      "Smallest element in this Cyclically shifted array [2, 3, 4, 5, 6, 7, 1] is : 6\n",
      "Smallest element in this Cyclically shifted array [5, 6, 7, 1, 2, 3, 4] is : 3\n",
      "Smallest element in this Cyclically shifted array [5, 6, 7, 1, 2, 3, 4] is : 3\n",
      "Smallest element in this Cyclically shifted array [3, 4, 5, 6, 7, 1, 2] is : 5\n",
      "Smallest element in this Cyclically shifted array [3, 4, 5, 6, 7, 1, 2] is : 5\n",
      "Smallest element in this Cyclically shifted array [6, 7, 1, 2, 3, 4, 5] is : 2\n",
      "Smallest element in this Cyclically shifted array [6, 7, 1, 2, 3, 4, 5] is : 2\n",
      "Smallest element in this Cyclically shifted array [7, 1, 2, 3, 4, 5, 6] is : 1\n",
      "Smallest element in this Cyclically shifted array [7, 1, 2, 3, 4, 5, 6] is : 1\n",
      "Smallest element in this Cyclically shifted array [1, 2, 3, 4, 5, 6, 7] is : 0\n",
      "Smallest element in this Cyclically shifted array [1, 2, 3, 4, 5, 6, 7] is : 0\n"
     ]
    }
   ],
   "source": [
    "# Cyclically Shifted Array\n",
    "\n",
    "def find_simplified_min_cyclically_shifted_array(numbers):\n",
    "    low = 0\n",
    "    high = len(numbers)-1\n",
    "    while low < high:\n",
    "        mid = (low+high)//2\n",
    "        if numbers[mid] > numbers[high]:\n",
    "            low = mid + 1\n",
    "        elif numbers[mid] <= numbers[high]:\n",
    "            high = mid\n",
    "    return low\n",
    "    \n",
    "\n",
    "def find_min_cyclically_shifted_array(numbers):\n",
    "    if not numbers:\n",
    "        return None\n",
    "    low = 0\n",
    "    high = len(numbers)-1\n",
    "    # because this is in proper sequence\n",
    "    if numbers[low] < numbers[high]:\n",
    "        return low\n",
    "    while low <= high:\n",
    "        mid = (low+high)//2\n",
    "        mid_left = numbers[mid-1] if (mid-1) >= 0 else float(\"inf\")\n",
    "        mid_right = numbers[mid+1] if (mid+1) < len(numbers) else float (\"-inf\")\n",
    "        if numbers[mid] < mid_left and numbers[mid] < mid_right:\n",
    "            return mid\n",
    "        elif numbers[mid] > mid_left and numbers[mid] > mid_right:\n",
    "            return mid+1\n",
    "        elif numbers[mid] > mid_left and numbers[mid] < mid_right and numbers[low] < numbers[mid]:\n",
    "            low = mid + 1\n",
    "        else:\n",
    "            high = mid - 1\n",
    "    return None\n",
    "\n",
    "A1 = [4, 5, 6, 7, 1, 2, 3]\n",
    "A2 = [2, 3, 4, 5, 6, 7, 1]\n",
    "A3 = [5, 6, 7, 1, 2, 3, 4]\n",
    "A4 = [3, 4, 5, 6, 7, 1, 2]\n",
    "A5 = [6, 7, 1, 2, 3, 4, 5]\n",
    "A6 = [7, 1, 2, 3, 4, 5, 6]\n",
    "A7 = [1, 2, 3, 4, 5, 6, 7]\n",
    "\n",
    "print(f\"Smallest element in this Cyclically shifted array {A1} is : {find_min_cyclically_shifted_array(A1)}\")\n",
    "print(f\"Smallest element in this Cyclically shifted array {A1} is : {find_simplified_min_cyclically_shifted_array(A1)}\")\n",
    "\n",
    "print(f\"Smallest element in this Cyclically shifted array {A2} is : {find_min_cyclically_shifted_array(A2)}\")\n",
    "print(f\"Smallest element in this Cyclically shifted array {A2} is : {find_simplified_min_cyclically_shifted_array(A2)}\")\n",
    "\n",
    "print(f\"Smallest element in this Cyclically shifted array {A3} is : {find_min_cyclically_shifted_array(A3)}\")\n",
    "print(f\"Smallest element in this Cyclically shifted array {A3} is : {find_simplified_min_cyclically_shifted_array(A3)}\")\n",
    "\n",
    "print(f\"Smallest element in this Cyclically shifted array {A4} is : {find_min_cyclically_shifted_array(A4)}\")\n",
    "print(f\"Smallest element in this Cyclically shifted array {A4} is : {find_simplified_min_cyclically_shifted_array(A4)}\")\n",
    "\n",
    "print(f\"Smallest element in this Cyclically shifted array {A5} is : {find_min_cyclically_shifted_array(A5)}\")\n",
    "print(f\"Smallest element in this Cyclically shifted array {A5} is : {find_simplified_min_cyclically_shifted_array(A5)}\")\n",
    "\n",
    "print(f\"Smallest element in this Cyclically shifted array {A6} is : {find_min_cyclically_shifted_array(A6)}\")\n",
    "print(f\"Smallest element in this Cyclically shifted array {A6} is : {find_simplified_min_cyclically_shifted_array(A6)}\")\n",
    "\n",
    "print(f\"Smallest element in this Cyclically shifted array {A7} is : {find_min_cyclically_shifted_array(A7)}\")\n",
    "print(f\"Smallest element in this Cyclically shifted array {A7} is : {find_simplified_min_cyclically_shifted_array(A7)}\")\n"
   ]
  }
 ],
 "metadata": {
  "interpreter": {
   "hash": "7111a5d2cc490e67e5545c5cecb7321c04651756cdcfb8ee9a1a2c85cc7c6e80"
  },
  "kernelspec": {
   "display_name": "Python 3.10.1 64-bit ('3.10.1')",
   "language": "python",
   "name": "python3"
  },
  "language_info": {
   "codemirror_mode": {
    "name": "ipython",
    "version": 3
   },
   "file_extension": ".py",
   "mimetype": "text/x-python",
   "name": "python",
   "nbconvert_exporter": "python",
   "pygments_lexer": "ipython3",
   "version": "3.10.1"
  },
  "orig_nbformat": 4
 },
 "nbformat": 4,
 "nbformat_minor": 2
}
