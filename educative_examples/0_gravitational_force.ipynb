{
 "cells": [
  {
   "cell_type": "markdown",
   "metadata": {},
   "source": [
    "# Problem Statement\n",
    "\n",
    "***Gravitational force*** is the attractive force that exists between two masses. It can be calculated by using the following formula:\n",
    "GMm/(r**2)\n",
    "\n",
    "where G is the gravitational constant, \n",
    "      M and m are the two masses, \n",
    "      and r is the distance between them.\n",
    "\n",
    "You must implement this equation in Python to calculate the gravitational force between Earth and the moon.\n",
    "\n",
    "## Sample Input\n",
    "\n",
    "G = 6.67 * 10-11\n",
    "MEarth = 6.0 * 10**24\n",
    "mMoon = 7.34 * 10**22\n",
    "r = 3.84 * 108\n",
    "\n",
    "## Sample Output\n",
    "\n",
    "FG = 1.99 * 10**20\n",
    "\n",
    "\n",
    "\n",
    "\n"
   ]
  },
  {
   "cell_type": "code",
   "execution_count": 1,
   "metadata": {},
   "outputs": [
    {
     "name": "stdout",
     "output_type": "stream",
     "text": [
      "1.9920979817708333e+20\n"
     ]
    }
   ],
   "source": [
    "# Find the Gravitational force\n",
    "\n",
    "\"\"\"\n",
    "***Gravitational force*** is the attractive force that exists between two masses. It can be calculated by using the following formula:\n",
    "GMm/(r**2)\n",
    "\n",
    "where G is the gravitational constant, \n",
    "      M and m are the two masses, \n",
    "      and r is the distance between them.\n",
    "\"\"\"\n",
    "\n",
    "G = 6.67 * (10 ** -11)\n",
    "M = 6.0 * (10 ** 24)  # Mass of Earth\n",
    "m = 7.34 * (10 ** 22)  # Mass of the moon\n",
    "r = 3.84 * (10 ** 8)\n",
    "\n",
    "grav_force = (G*M*m)/(r**2)\n",
    "print(grav_force)"
   ]
  }
 ],
 "metadata": {
  "interpreter": {
   "hash": "7111a5d2cc490e67e5545c5cecb7321c04651756cdcfb8ee9a1a2c85cc7c6e80"
  },
  "kernelspec": {
   "display_name": "Python 3.10.1 64-bit ('3.10.1')",
   "language": "python",
   "name": "python3"
  },
  "language_info": {
   "codemirror_mode": {
    "name": "ipython",
    "version": 3
   },
   "file_extension": ".py",
   "mimetype": "text/x-python",
   "name": "python",
   "nbconvert_exporter": "python",
   "pygments_lexer": "ipython3",
   "version": "3.10.1"
  },
  "orig_nbformat": 4
 },
 "nbformat": 4,
 "nbformat_minor": 2
}
