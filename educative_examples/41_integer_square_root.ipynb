{
 "cells": [
  {
   "cell_type": "markdown",
   "metadata": {},
   "source": [
    "# Integer Square Root\n",
    "\n",
    "You are required to write a function that takes a non-negative integer, k, and returns the largest integer whose square is less than or equal to the specified integer k.\n",
    "</br>\n",
    "\n",
    "### Example\n",
    "> Input: 12 Output: 3 (3^3=9 4^4=16) </br>\n",
    "> Input: 300 Output: 17 (17^17= 289, 18^18>300)\n",
    "\n"
   ]
  },
  {
   "cell_type": "code",
   "execution_count": 1,
   "metadata": {},
   "outputs": [
    {
     "name": "stdout",
     "output_type": "stream",
     "text": [
      "Max integer of square root of 300 is 17\n",
      "Max integer of square root of 300 is 17\n",
      "Max integer of square root of 12 is 3\n",
      "Max integer of square root of 12 is 3\n",
      "Max integer of square root of 1000 is 31\n",
      "Max integer of square root of 1000 is 31\n"
     ]
    }
   ],
   "source": [
    "# Integer Square Root\n",
    "import math\n",
    "\n",
    "def integer_square_root(k):\n",
    "    return math.floor(math.sqrt(k))\n",
    "\n",
    "def integer_square_root_with_binary_search(k):\n",
    "    low = 0\n",
    "    high = k\n",
    "    while low <= high:\n",
    "        mid = (low+high)//2\n",
    "        mid_square = mid * mid\n",
    "        if mid_square <= k:\n",
    "            low = mid + 1\n",
    "        else:\n",
    "            high = mid -1\n",
    "    return low - 1\n",
    "\n",
    "k = 300\n",
    "print(f\"Max integer of square root of {k} is {integer_square_root(k)}\")\n",
    "print(f\"Max integer of square root of {k} is {integer_square_root_with_binary_search(k)}\")\n",
    "\n",
    "k = 12\n",
    "print(f\"Max integer of square root of {k} is {integer_square_root(k)}\")\n",
    "print(f\"Max integer of square root of {k} is {integer_square_root_with_binary_search(k)}\")\n",
    "\n",
    "k = 1000\n",
    "print(f\"Max integer of square root of {k} is {integer_square_root(k)}\")\n",
    "print(f\"Max integer of square root of {k} is {integer_square_root_with_binary_search(k)}\")\n",
    "\n"
   ]
  }
 ],
 "metadata": {
  "interpreter": {
   "hash": "7111a5d2cc490e67e5545c5cecb7321c04651756cdcfb8ee9a1a2c85cc7c6e80"
  },
  "kernelspec": {
   "display_name": "Python 3.10.1 64-bit ('3.10.1')",
   "language": "python",
   "name": "python3"
  },
  "language_info": {
   "codemirror_mode": {
    "name": "ipython",
    "version": 3
   },
   "file_extension": ".py",
   "mimetype": "text/x-python",
   "name": "python",
   "nbconvert_exporter": "python",
   "pygments_lexer": "ipython3",
   "version": "3.10.1"
  },
  "orig_nbformat": 4
 },
 "nbformat": 4,
 "nbformat_minor": 2
}
