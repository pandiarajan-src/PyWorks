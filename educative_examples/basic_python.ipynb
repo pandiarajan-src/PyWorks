{
 "cells": [
  {
   "cell_type": "markdown",
   "metadata": {},
   "source": [
    "# The print() Statement\n",
    "Whenever we learn a new language, it is an age-old tradition to start by displaying the text “Hello World” on the screen. For the remainder of this course, the terminal will act as our screen.\n",
    "\n",
    "Every language has a different syntax for displaying or printing something on the screen.\n",
    "\n",
    "Since Python is one of the most readable languages out there, we can print data on the terminal by simply using the print statement.\n",
    "\n",
    "Here’s what the statement looks like:\n",
    "\n",
    "print (data)"
   ]
  },
  {
   "cell_type": "code",
   "execution_count": 1,
   "metadata": {},
   "outputs": [
    {
     "name": "stdout",
     "output_type": "stream",
     "text": [
      "Hello World\n"
     ]
    }
   ],
   "source": [
    "print(\"Hello World\")"
   ]
  },
  {
   "cell_type": "code",
   "execution_count": 2,
   "metadata": {},
   "outputs": [
    {
     "name": "stdout",
     "output_type": "stream",
     "text": [
      "50\n",
      "1000\n",
      "3.142\n",
      "50 1000 3.142 Hello World\n",
      "HelloWorld\n",
      "Hello World\n"
     ]
    }
   ],
   "source": [
    "print(50)\n",
    "print(1000)\n",
    "print(3.142)\n",
    "\n",
    "print(50, 1000, 3.142, \"Hello World\")\n",
    "\n",
    "\n",
    "print(\"Hello\", end=\"\")\n",
    "print(\"World\")\n",
    "\n",
    "print(\"Hello\", end=\" \")\n",
    "print(\"World\")\n"
   ]
  },
  {
   "cell_type": "markdown",
   "metadata": {},
   "source": [
    "# Comments\n",
    "\n",
    "Comments are pieces of text used to describe what is happening in the code. They have no effect on the code whatsoever.\n",
    "\n",
    "A comment can be written using the # character:\n",
    "\n",
    "An alternative to these multi-line comments (line 4 - 8) are docstrings. They are encased in triple quotes, \"\"\", and can be used to replace multi-line comments:"
   ]
  },
  {
   "cell_type": "code",
   "execution_count": null,
   "metadata": {},
   "outputs": [],
   "source": [
    "print(50)  # This line prints 50\n",
    "print(\"Hello World\")  # This line prints Hello World\n",
    "\n",
    "# This is just a comment hanging out on its own!\n",
    "\n",
    "# For multi-line comments, we must\n",
    "# add the hashtag symbol\n",
    "# each time\n",
    "\n",
    "\"\"\" Docstrings are pretty cool\n",
    "for writing longer comments\n",
    "or notes about the code\"\"\""
   ]
  },
  {
   "cell_type": "markdown",
   "metadata": {},
   "source": [
    "# What are Data Types and Variables?\n",
    "\n",
    "## Definition\n",
    "> The data type of an item defines the type and range of values that item can have.\n",
    "\n",
    "## Python’s Data Types\n",
    "Unlike many other languages, Python does not place a strong emphasis on defining the data type of an object, which makes coding much simpler. The language provides three main data types:\n",
    "\n",
    "1. Numbers\n",
    "2. Strings\n",
    "3. Booleans\n",
    "\n",
    "## Variables\n",
    "\n",
    "> A variable is simply a name to which a value can be assigned.\n",
    "\n",
    "Variables allow us to give meaningful names to data.\n",
    "The simplest way to assign a value to a variable is through the = operator.\n",
    "A big advantage of variables is that they allow us to store data so that we can use it later to perform operations in the code.\n",
    "\n",
    "***Variables are mutable***. Hence, the value of a variable can always be updated or replaced"
   ]
  },
  {
   "cell_type": "code",
   "execution_count": 1,
   "metadata": {},
   "outputs": [
    {
     "name": "stdout",
     "output_type": "stream",
     "text": [
      "Value of num inside function: 200\n",
      "Value of num outside function: 20\n",
      "[10, 20, 30, 40]\n",
      "[100, 200, 300, 400]\n"
     ]
    }
   ],
   "source": [
    "# Altering Data (Scope)\n",
    "\n",
    "\"\"\"\n",
    "When mutable data is passed to a function, the function can modify or alter it. \n",
    "These modifications will stay in effect outside the function scope as well. \n",
    "An example of mutable data is a list.\n",
    "\n",
    "In the case of immutable data, the function can modify it, but the data will remain unchanged outside the function’s scope. \n",
    "Examples of immutable data are numbers, strings, etc.\n",
    "\"\"\"\n",
    "\n",
    "# Immuatable objects such as int, string\n",
    "num = 20\n",
    "\n",
    "def multiply_by_10(n):\n",
    "    n *= 10\n",
    "    num = n  # Changing the value inside the function\n",
    "    print(\"Value of num inside function:\", num)\n",
    "    return n\n",
    "\n",
    "\n",
    "multiply_by_10(num)\n",
    "print(\"Value of num outside function:\", num)  # The original value remains unchanged\n",
    "\n",
    "# Mutalbe list\n",
    "num_list = [10, 20, 30, 40]\n",
    "print(num_list)\n",
    "\n",
    "\n",
    "def multiply_by_10(my_list):\n",
    "    my_list[0] *= 10\n",
    "    my_list[1] *= 10\n",
    "    my_list[2] *= 10\n",
    "    my_list[3] *= 10\n",
    "\n",
    "\n",
    "multiply_by_10(num_list)\n",
    "print(num_list)  # The contents of the list have been changed"
   ]
  }
 ],
 "metadata": {
  "interpreter": {
   "hash": "7111a5d2cc490e67e5545c5cecb7321c04651756cdcfb8ee9a1a2c85cc7c6e80"
  },
  "kernelspec": {
   "display_name": "Python 3.10.1 64-bit ('3.10.1')",
   "language": "python",
   "name": "python3"
  },
  "language_info": {
   "codemirror_mode": {
    "name": "ipython",
    "version": 3
   },
   "file_extension": ".py",
   "mimetype": "text/x-python",
   "name": "python",
   "nbconvert_exporter": "python",
   "pygments_lexer": "ipython3",
   "version": "3.10.1"
  },
  "orig_nbformat": 4
 },
 "nbformat": 4,
 "nbformat_minor": 2
}
