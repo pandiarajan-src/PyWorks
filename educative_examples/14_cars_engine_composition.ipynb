{
 "cells": [
  {
   "cell_type": "markdown",
   "metadata": {},
   "source": [
    "# Cars and Engines!\n",
    "\n",
    "### Problem Statement\n",
    "\n",
    "You have to implement a Sedan class, which inherits from the Car class and contains a SedanEngine object.\n",
    "\n",
    "> Note: You already know that in such a composition relation, the Sedan class will be responsible for SedanEngine lifetime."
   ]
  },
  {
   "cell_type": "code",
   "execution_count": 1,
   "metadata": {},
   "outputs": [
    {
     "name": "stdout",
     "output_type": "stream",
     "text": [
      "Car has started.\n",
      "Model: Toyota\n",
      "Color: Grey\n",
      "Car has stopped.\n"
     ]
    }
   ],
   "source": [
    "# Cars and Engines!\n",
    "\n",
    "class Car:\n",
    "    def __init__(self, model, color ):\n",
    "        self.model = model\n",
    "        self.color = color\n",
    "\n",
    "    def printDetails(self):\n",
    "        print(\"Model: {0}\".format(self.model))\n",
    "        print(\"Color: {0}\".format(self.color))\n",
    "\n",
    "class SedanEngine:\n",
    "    def __init__(self):\n",
    "        pass\n",
    "\n",
    "    def start(self):\n",
    "        print(\"Car has started.\")\n",
    "\n",
    "    def stop(self):\n",
    "        print(\"Car has stopped.\")\n",
    "\n",
    "class Sedan(Car):\n",
    "    def __init__(self, model, color):\n",
    "        super().__init__(model, color)\n",
    "        self.engine = SedanEngine()\n",
    "\n",
    "    def setStart(self):\n",
    "        self.engine.start()\n",
    "\n",
    "    def setStop(self):\n",
    "        self.engine.stop()\n",
    "\n",
    "car1 = Sedan(\"Toyota\",\"Grey\")\n",
    "car1.setStart()\n",
    "car1.printDetails()\n",
    "car1.setStop()"
   ]
  }
 ],
 "metadata": {
  "interpreter": {
   "hash": "7111a5d2cc490e67e5545c5cecb7321c04651756cdcfb8ee9a1a2c85cc7c6e80"
  },
  "kernelspec": {
   "display_name": "Python 3.10.1 64-bit ('3.10.1')",
   "language": "python",
   "name": "python3"
  },
  "language_info": {
   "codemirror_mode": {
    "name": "ipython",
    "version": 3
   },
   "file_extension": ".py",
   "mimetype": "text/x-python",
   "name": "python",
   "nbconvert_exporter": "python",
   "pygments_lexer": "ipython3",
   "version": "3.10.1"
  },
  "orig_nbformat": 4
 },
 "nbformat": 4,
 "nbformat_minor": 2
}
