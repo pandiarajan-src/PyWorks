{
 "cells": [
  {
   "cell_type": "markdown",
   "metadata": {},
   "source": [
    "# Square Numbers and Return Their Sum\n",
    "\n",
    "### Problem statement\n",
    "\n",
    "Implement a class Point that has three properties and a method. \n",
    "All these attributes (properties and methods) should be public. \n",
    "This problem can be broken down into two tasks:\n",
    "\n",
    "1. Task 1 - Implement a constructor to initialize the values of three properties: x, y, and z.\n",
    "2. Task 2 - Implement a method, sqSum(), in the Point class which squares x, y, and z and returns their sum.\n",
    "\n",
    "#### Sample Input\n",
    "1, 3, 5\n",
    "\n",
    "#### Sample Output\n",
    "35\n"
   ]
  },
  {
   "cell_type": "code",
   "execution_count": 1,
   "metadata": {},
   "outputs": [
    {
     "name": "stdout",
     "output_type": "stream",
     "text": [
      "35\n"
     ]
    }
   ],
   "source": [
    "# Square Numbers and Return Their Sum\n",
    "\n",
    "class Point:\n",
    "    def __init__(self, a, b, c):\n",
    "        self.x = a\n",
    "        self.y = b\n",
    "        self.z = c\n",
    "    \n",
    "    def sqSum(self):\n",
    "        return (self.x ** 2) + (self.y ** 2) + (self.z ** 2)\n",
    "\n",
    "pt = Point(1, 3, 5)\n",
    "print(pt.sqSum())\n"
   ]
  }
 ],
 "metadata": {
  "interpreter": {
   "hash": "7111a5d2cc490e67e5545c5cecb7321c04651756cdcfb8ee9a1a2c85cc7c6e80"
  },
  "kernelspec": {
   "display_name": "Python 3.10.1 64-bit ('3.10.1')",
   "language": "python",
   "name": "python3"
  },
  "language_info": {
   "codemirror_mode": {
    "name": "ipython",
    "version": 3
   },
   "file_extension": ".py",
   "mimetype": "text/x-python",
   "name": "python",
   "nbconvert_exporter": "python",
   "pygments_lexer": "ipython3",
   "version": "3.10.1"
  },
  "orig_nbformat": 4
 },
 "nbformat": 4,
 "nbformat_minor": 2
}
