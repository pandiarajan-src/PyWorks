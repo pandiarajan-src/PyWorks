{
 "cells": [
  {
   "cell_type": "markdown",
   "metadata": {},
   "source": [
    "# TWO SUM PROBLEM\n",
    "\n",
    "Given an array of integers, return True or False if the array has two numbers that add up to a specific target. </br>\n",
    "You may assume that each input would have exactly one solution.</br>\n",
    "</br>\n",
    "\n",
    "### Example\n",
    "Input => -2, 1, 2, 4, 7, 11 and Target Sum = 13\n",
    "\n",
    "Output => True (since we have 11 & 2)"
   ]
  },
  {
   "cell_type": "code",
   "execution_count": 9,
   "metadata": {},
   "outputs": [
    {
     "name": "stdout",
     "output_type": "stream",
     "text": [
      "Check sum=13 in [-2, 1, 2, 4, 7, 11]. Yes Exists - numbers are : 2 & 11\n",
      "Check sum=13 in [-2, 1, 2, 4, 7, 11]. Yes Exists - numbers are : 2 & 11\n",
      "Check sum=13 in [-2, 1, 2, 4, 7, 11]. Yes Exists - numbers are : 2 & 11\n",
      "Check sum=20 in [-2, 1, 2, 4, 7, 11]. No It doesnt exists - numbers are : None & None\n",
      "Check sum=20 in [-2, 1, 2, 4, 7, 11]. No It doesnt exists - numbers are : None & None\n",
      "Check sum=20 in [-2, 1, 2, 4, 7, 11]. No It doesnt exists - numbers are : None & None\n"
     ]
    }
   ],
   "source": [
    "# Two sum problem\n",
    "\n",
    "# Time complexity O(n^2)\n",
    "# Space complexity O(1)\n",
    "def two_sum_brute_force(input_array, sum):\n",
    "    length = len(input_array)\n",
    "    for i in range(length):\n",
    "        f_n = input_array[i]\n",
    "        for j in range(length):\n",
    "            if i == j:\n",
    "                continue\n",
    "            s_n = input_array[j]\n",
    "            if f_n + s_n == sum:\n",
    "                return True, f_n, s_n\n",
    "    return False, None, None\n",
    "\n",
    "# Time complexity O(n)\n",
    "# Space complextiy O(n)\n",
    "def two_sum_hash_table(input_array, sum):\n",
    "    ht = dict()\n",
    "    for i in range(len(input_array)):\n",
    "        if input_array[i] in ht:\n",
    "            return True, ht[A[i]], A[i]\n",
    "        else:\n",
    "            ht[sum - A[i]] = A[i]\n",
    "    return False, None, None\n",
    "\n",
    "# Time complexity O(nlog(n))\n",
    "# Space complextiy O(1)\n",
    "# But there is a condition that the given input to this method is SORTED one\n",
    "def two_sum_two_indices(input_array, sum):\n",
    "    input_array = sorted(input_array)\n",
    "    left = 0\n",
    "    right = len(input_array) - 1\n",
    "    while left < right:\n",
    "        if (input_array[left] + input_array[right]) == sum:\n",
    "            return True, input_array[left], input_array[right]\n",
    "        if (input_array[left] + input_array[right]) < sum:\n",
    "            left += 1\n",
    "        else:\n",
    "            right -= 1\n",
    "\n",
    "    return False, None, None\n",
    "\n",
    "A = [-2, 1, 2, 4, 7, 11]\n",
    "sum = 13\n",
    "is_present, first_num, second_num = two_sum_brute_force(A, sum)\n",
    "print(f\"Check sum={sum} in {A}. {'Yes Exists' if is_present == True else 'No It doesnt exists'} - numbers are : {first_num} & {second_num}\")\n",
    "\n",
    "is_present, first_num, second_num = two_sum_hash_table(A, sum)\n",
    "print(f\"Check sum={sum} in {A}. {'Yes Exists' if is_present == True else 'No It doesnt exists'} - numbers are : {first_num} & {second_num}\")\n",
    "\n",
    "is_present, first_num, second_num = two_sum_two_indices(A, sum)\n",
    "print(f\"Check sum={sum} in {A}. {'Yes Exists' if is_present == True else 'No It doesnt exists'} - numbers are : {first_num} & {second_num}\")\n",
    "\n",
    "\n",
    "sum = 20\n",
    "is_present, first_num, second_num = two_sum_brute_force(A, sum)\n",
    "print(f\"Check sum={sum} in {A}. {'Yes Exists' if is_present == True else 'No It doesnt exists'} - numbers are : {first_num} & {second_num}\")\n",
    "\n",
    "is_present, first_num, second_num = two_sum_hash_table(A, sum)\n",
    "print(f\"Check sum={sum} in {A}. {'Yes Exists' if is_present == True else 'No It doesnt exists'} - numbers are : {first_num} & {second_num}\")\n",
    "\n",
    "is_present, first_num, second_num = two_sum_two_indices(A, sum)\n",
    "print(f\"Check sum={sum} in {A}. {'Yes Exists' if is_present == True else 'No It doesnt exists'} - numbers are : {first_num} & {second_num}\")\n"
   ]
  }
 ],
 "metadata": {
  "interpreter": {
   "hash": "7111a5d2cc490e67e5545c5cecb7321c04651756cdcfb8ee9a1a2c85cc7c6e80"
  },
  "kernelspec": {
   "display_name": "Python 3.10.1 64-bit ('3.10.1')",
   "language": "python",
   "name": "python3"
  },
  "language_info": {
   "codemirror_mode": {
    "name": "ipython",
    "version": 3
   },
   "file_extension": ".py",
   "mimetype": "text/x-python",
   "name": "python",
   "nbconvert_exporter": "python",
   "pygments_lexer": "ipython3",
   "version": "3.10.1"
  },
  "orig_nbformat": 4
 },
 "nbformat": 4,
 "nbformat_minor": 2
}
