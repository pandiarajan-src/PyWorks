{
 "cells": [
  {
   "cell_type": "markdown",
   "metadata": {},
   "source": [
    "# Implement a Rectangle Class Using the Encapsulation\n",
    "\n",
    "### Problem statement\n",
    "You are given a partially completed code of a Rectangle class in the editor. \n",
    "Implement the class by completing the tasks below.\n",
    "\n",
    "1. Task 1 - Implement a constructor to initialize the values of two private properties: length and width.\n",
    "2. Task 2 - Implement a method, area(), in the Rectangle class that returns the product of length and width. \n",
    "3. Task 3 - Implement a method, perimeter(), in the Rectangle class that returns two times the sum of length and width.\n",
    "\n",
    "#### Sample Input\n",
    "\n",
    "### Sample Output\n"
   ]
  },
  {
   "cell_type": "code",
   "execution_count": 2,
   "metadata": {},
   "outputs": [
    {
     "name": "stdout",
     "output_type": "stream",
     "text": [
      "20\n",
      "18\n"
     ]
    }
   ],
   "source": [
    "# Implement a Rectangle Class Using the Encapsulation\n",
    "\n",
    "class Rectangle:\n",
    "    def __init__(self, length, width):\n",
    "        self.__length = length\n",
    "        self.__width = width\n",
    "\n",
    "    def area(self):\n",
    "        return (self.__length * self.__width)\n",
    "\n",
    "    def perimeter(self):\n",
    "        return (2 * (self.__length + self.__width))\n",
    "    \n",
    "    def getLength(self):\n",
    "        return self.__length\n",
    "\n",
    "    def setLength(self, length):\n",
    "        self.__length = length\n",
    "\n",
    "    def getwidth(self):\n",
    "        return self.__width\n",
    "\n",
    "    def setwidth(self, width):\n",
    "        self.__width = width\n",
    "\n",
    "rec = Rectangle(4, 5)\n",
    "print( rec.area() )\n",
    "print( rec.perimeter() )\n",
    "\n",
    "    "
   ]
  }
 ],
 "metadata": {
  "interpreter": {
   "hash": "7111a5d2cc490e67e5545c5cecb7321c04651756cdcfb8ee9a1a2c85cc7c6e80"
  },
  "kernelspec": {
   "display_name": "Python 3.10.1 64-bit ('3.10.1')",
   "language": "python",
   "name": "python3"
  },
  "language_info": {
   "codemirror_mode": {
    "name": "ipython",
    "version": 3
   },
   "file_extension": ".py",
   "mimetype": "text/x-python",
   "name": "python",
   "nbconvert_exporter": "python",
   "pygments_lexer": "ipython3",
   "version": "3.10.1"
  },
  "orig_nbformat": 4
 },
 "nbformat": 4,
 "nbformat_minor": 2
}
