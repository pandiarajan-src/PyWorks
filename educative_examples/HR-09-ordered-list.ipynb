{
 "cells": [
  {
   "cell_type": "markdown",
   "metadata": {},
   "source": [
    "Given the names and grades for each student in a class of N students, store them in a nested list and print the name(s) of any student(s) having the second lowest grade.\n",
    "Note: If there are multiple students with the second lowest grade, order their names alphabetically and print each name on a new line.\n",
    "Example \n",
    "records = [[\"chi\", 20], [\"beta\",50.0], [\"alpha\", 50.0]]\n",
    "\n",
    "The ordered list of scores is [20, 50.0], so the second lowest score is 50,0. There are two students with that score: [\"beta\", \"alpha]. Ordered alphabetically, the names are printed as:\n",
    "\n",
    "alpha\n",
    "beta\n",
    "\n",
    "Input Format\n",
    "\n",
    "The first line contains an integer, N, the number of students. \n",
    "The  subsequent lines describe each student over 2 lines. \n",
    "- The first line contains a student's name. \n",
    "- The second line contains their grade."
   ]
  },
  {
   "cell_type": "code",
   "execution_count": 7,
   "metadata": {},
   "outputs": [
    {
     "name": "stdout",
     "output_type": "stream",
     "text": [
      "[['gamma', 5.0], ['beta', 10.0], ['alpha', 20.0]]\n",
      "[]\n"
     ]
    }
   ],
   "source": [
    "if __name__ == \"__main__\":\n",
    "    student_scores = list()\n",
    "    for _ in range(int(input())):\n",
    "        name = input(\"Enter name:\" )\n",
    "        score = float(input(\"Enter student score:\"))\n",
    "        student_scores.append([name, score])\n",
    "    student_scores.sort(key=lambda x : x[1])\n",
    "    print(student_scores)\n",
    "    if len(student_scores) > 2:\n",
    "        second_highest_score = student_scores[1][1]\n",
    "        for student in student_scores:\n",
    "            if student[1] == second_highest_score:\n",
    "                print(student[0])\n"
   ]
  }
 ],
 "metadata": {
  "kernelspec": {
   "display_name": "Python 3.10.1 64-bit ('3.10.1')",
   "language": "python",
   "name": "python3"
  },
  "language_info": {
   "codemirror_mode": {
    "name": "ipython",
    "version": 3
   },
   "file_extension": ".py",
   "mimetype": "text/x-python",
   "name": "python",
   "nbconvert_exporter": "python",
   "pygments_lexer": "ipython3",
   "version": "3.10.1"
  },
  "orig_nbformat": 4,
  "vscode": {
   "interpreter": {
    "hash": "7111a5d2cc490e67e5545c5cecb7321c04651756cdcfb8ee9a1a2c85cc7c6e80"
   }
  }
 },
 "nbformat": 4,
 "nbformat_minor": 2
}
