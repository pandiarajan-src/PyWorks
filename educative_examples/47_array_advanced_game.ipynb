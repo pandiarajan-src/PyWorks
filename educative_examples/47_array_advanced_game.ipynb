{
 "cells": [
  {
   "cell_type": "markdown",
   "metadata": {},
   "source": [
    "# Array Advanced Game\n",
    "\n",
    "### Problem\n",
    "\n",
    "Now the problem is as follows:\n",
    "\n",
    "Is it possible to advance from the start of the array to the last element given that the maximum you can advance from a position is based on the value of the array at the index you are currently present on?\n",
    "\n",
    "### Algorithm\n",
    "I hope you are clear about the game and the problem statement at this point. We have to figure out the best way to advance in the array so that we reach the last index.\n",
    "\n",
    "### Greedy Approach\n",
    "Let’s try the greedy approach in which we always advance the maximum we can at every index.\n",
    "\n",
    "as you can see, the greedy algorithm doesn’t work for this solution. Let’s look at the algorithm which will solve the problem:\n",
    "\n",
    "### Optimal solution\n",
    "\n",
    "1. Iterate through each entry in an array, A.\n",
    "1. Track the furthest we can reach from entry (A[i] + i)\n",
    "1. If for some i, we don’t reach the end and that is the furthest we can reach, then we can’t reach the last index. Otherwise, the end is reached.\n",
    "1. i: index processed. Furthest possible to advance from i: A[i] + i"
   ]
  },
  {
   "cell_type": "code",
   "execution_count": 16,
   "metadata": {},
   "outputs": [
    {
     "name": "stdout",
     "output_type": "stream",
     "text": [
      "greedy: array advance game of [3, 3, 1, 0, 2, 0, 1] is Failure\n",
      "optimi: array advance game of [3, 3, 1, 0, 2, 0, 1] is Success\n",
      "-----------------------------------------------------\n",
      "greedy: array advance game of [1, 3, 1, 0, 2, 0, 1] is Success\n",
      "optimi: array advance game of [1, 3, 1, 0, 2, 0, 1] is Success\n",
      "-----------------------------------------------------\n",
      "greedy: array advance game of [3, 2, 0, 0, 2, 0, 1] is Failure\n",
      "optimi: array advance game of [3, 2, 0, 0, 2, 0, 1] is Failure\n",
      "-----------------------------------------------------\n",
      "greedy: array advance game of [1, 2, 0, 0, 2, 0, 1] is Failure\n",
      "optimi: array advance game of [1, 2, 0, 0, 2, 0, 1] is Failure\n",
      "-----------------------------------------------------\n",
      "greedy: array advance game of [] is Success\n",
      "optimi: array advance game of [] is Success\n",
      "-----------------------------------------------------\n"
     ]
    }
   ],
   "source": [
    "# Array Advanced Game\n",
    "\n",
    "def array_advanced_game_greedy(array: list) -> int:\n",
    "    index = 0\n",
    "    while index < len(array):\n",
    "        if array[index] == 0:\n",
    "            break\n",
    "        index = index + array[index]\n",
    "    return index >= len(array)\n",
    "\n",
    "\n",
    "def array_advanced_game_optimized(array: list) -> int:\n",
    "    index = 0\n",
    "    last_index = len(array) - 1\n",
    "    furthest_reached = 0\n",
    "    while index <= furthest_reached and furthest_reached < last_index:\n",
    "        furthest_reached = max(furthest_reached, array[index]+index)\n",
    "        index += 1\n",
    "    return furthest_reached >= last_index\n",
    "    \n",
    "\n",
    "\n",
    "\n",
    "def test_array_advanced_game_greedy(array: list):\n",
    "    g_result = \"Success\" if array_advanced_game_greedy(array) is True else \"Failure\"\n",
    "    o_result = \"Success\" if array_advanced_game_optimized(array) is True else \"Failure\"\n",
    "    print(f\"greedy: array advance game of {array} is {g_result}\")\n",
    "    print(f\"optimi: array advance game of {array} is {o_result}\")\n",
    "    print(f\"-----------------------------------------------------\")\n",
    "\n",
    "\n",
    "\n",
    "test_array_advanced_game_greedy([3, 3, 1, 0, 2, 0, 1])\n",
    "test_array_advanced_game_greedy([1, 3, 1, 0, 2, 0, 1])\n",
    "test_array_advanced_game_greedy([3, 2, 0, 0, 2, 0, 1])\n",
    "test_array_advanced_game_greedy([1, 2, 0, 0, 2, 0, 1])\n",
    "test_array_advanced_game_greedy([])\n",
    "\n",
    "\n",
    "\n",
    "\n",
    "\n",
    "\n"
   ]
  }
 ],
 "metadata": {
  "kernelspec": {
   "display_name": ".venv",
   "language": "python",
   "name": "python3"
  },
  "language_info": {
   "codemirror_mode": {
    "name": "ipython",
    "version": 3
   },
   "file_extension": ".py",
   "mimetype": "text/x-python",
   "name": "python",
   "nbconvert_exporter": "python",
   "pygments_lexer": "ipython3",
   "version": "3.11.5"
  },
  "orig_nbformat": 4
 },
 "nbformat": 4,
 "nbformat_minor": 2
}
