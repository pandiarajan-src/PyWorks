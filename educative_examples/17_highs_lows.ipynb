{
 "cells": [
  {
   "cell_type": "markdown",
   "metadata": {},
   "source": [
    "# Highs and Lows\n",
    "\n",
    "### Problem Statement\n",
    "\n",
    "You must implement the count_low_high() function. Its parameter is a list of numbers.\n",
    "\n",
    "If a number is greater than 50 or divisible by 3, it will count as a high. If these conditions are not met, the number is considered a low.\n",
    "At the end of the function, you must return a list that contains the number of lows and highs, in that order.\n",
    "In case the list is empty, you may return None.\n",
    "\n",
    "### Sample Input\n",
    "> num_list = [20, 9, 51, 81, 50, 42, 77]\n",
    "\n",
    "### Sample Output\n",
    "> [2, 5] # 2 lows and 5 highs"
   ]
  },
  {
   "cell_type": "code",
   "execution_count": 5,
   "metadata": {},
   "outputs": [
    {
     "name": "stdout",
     "output_type": "stream",
     "text": [
      "Lows :  [20, 50] Highs: [9, 51, 81, 42, 77]\n",
      "[2, 5]\n"
     ]
    }
   ],
   "source": [
    "# Highs and Lows\n",
    "\n",
    "def count_low_high(num_list):\n",
    "    if len(num_list) <= 0:\n",
    "        return None\n",
    "    highs = [h for h in num_list if h > 50 or h%3 == 0]\n",
    "    lows = [l for l in num_list if l not in highs]\n",
    "    print(f\"Lows :  {lows} Highs: {highs}\")\n",
    "    return [len(lows), len(highs)]\n",
    "\n",
    "num_list = [20, 9, 51, 81, 50, 42, 77]\n",
    "print( count_low_high(num_list) ) \n"
   ]
  },
  {
   "cell_type": "code",
   "execution_count": 9,
   "metadata": {},
   "outputs": [
    {
     "name": "stdout",
     "output_type": "stream",
     "text": [
      "Lows :  [20, 50] Highs: [9, 51, 81, 42, 77]\n",
      "[2, 5]\n"
     ]
    }
   ],
   "source": [
    "# Highs and Lows\n",
    "\n",
    "def count_low_high(num_list):\n",
    "    if len(num_list) <= 0:\n",
    "        return None\n",
    "    highs = list(filter((lambda h: h > 50 or h%3==0), num_list))\n",
    "    lows = list(filter((lambda l: l not in highs), num_list))\n",
    "    print(f\"Lows :  {lows} Highs: {highs}\")\n",
    "    return[len(lows), len(highs)]\n",
    "\n",
    "num_list = [20, 9, 51, 81, 50, 42, 77]\n",
    "print( count_low_high(num_list) ) "
   ]
  }
 ],
 "metadata": {
  "interpreter": {
   "hash": "7111a5d2cc490e67e5545c5cecb7321c04651756cdcfb8ee9a1a2c85cc7c6e80"
  },
  "kernelspec": {
   "display_name": "Python 3.10.1 64-bit ('3.10.1')",
   "language": "python",
   "name": "python3"
  },
  "language_info": {
   "codemirror_mode": {
    "name": "ipython",
    "version": 3
   },
   "file_extension": ".py",
   "mimetype": "text/x-python",
   "name": "python",
   "nbconvert_exporter": "python",
   "pygments_lexer": "ipython3",
   "version": "3.10.1"
  },
  "orig_nbformat": 4
 },
 "nbformat": 4,
 "nbformat_minor": 2
}
