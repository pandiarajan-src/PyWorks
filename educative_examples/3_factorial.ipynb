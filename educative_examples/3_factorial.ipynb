{
 "cells": [
  {
   "cell_type": "markdown",
   "metadata": {},
   "source": [
    "# Factorial\n",
    "\n",
    "In this challenge, you must implement the factorial() function. \n",
    "It takes an integer as a parameter and calculates its factorial. \n",
    "Python does have a built-in factorial function but you’ll be creating your own for practice.\n",
    "\n",
    "> The factorial of a number, n, is its product with all the integers between 0 and n.\n",
    "\n",
    "> factorial = n * (n-1) * (n-2) ... 1, 0\n",
    "\n",
    "The factorial for 0 and 1 is always 1.\n",
    "\n",
    "## Sample Input\n",
    "n = 5\n",
    "\n",
    "## Sample Output\n",
    "120\n"
   ]
  },
  {
   "cell_type": "code",
   "execution_count": 4,
   "metadata": {},
   "outputs": [
    {
     "data": {
      "text/plain": [
       "120"
      ]
     },
     "execution_count": 4,
     "metadata": {},
     "output_type": "execute_result"
    }
   ],
   "source": [
    "# def factorial(n):\n",
    "#     val = 1\n",
    "#     for index in range(1,n+1):\n",
    "#         val = val * index\n",
    "#     return val\n",
    "        \n",
    "\n",
    "def factorial(n):\n",
    "    if n < 0:\n",
    "        return -1\n",
    "    elif n == 0 or n == 1:\n",
    "        return 1\n",
    "    else:\n",
    "        return n * factorial(n-1)\n",
    "\n",
    "factorial(5)\n",
    "\n",
    "    "
   ]
  }
 ],
 "metadata": {
  "interpreter": {
   "hash": "7111a5d2cc490e67e5545c5cecb7321c04651756cdcfb8ee9a1a2c85cc7c6e80"
  },
  "kernelspec": {
   "display_name": "Python 3.10.1 64-bit ('3.10.1')",
   "language": "python",
   "name": "python3"
  },
  "language_info": {
   "codemirror_mode": {
    "name": "ipython",
    "version": 3
   },
   "file_extension": ".py",
   "mimetype": "text/x-python",
   "name": "python",
   "nbconvert_exporter": "python",
   "pygments_lexer": "ipython3",
   "version": "3.10.1"
  },
  "orig_nbformat": 4
 },
 "nbformat": 4,
 "nbformat_minor": 2
}
