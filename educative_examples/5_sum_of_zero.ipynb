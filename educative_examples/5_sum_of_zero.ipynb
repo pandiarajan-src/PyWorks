{
 "cells": [
  {
   "cell_type": "markdown",
   "metadata": {},
   "source": [
    "# Sum of Zero\n",
    "\n",
    "### Problem Statement\n",
    "\n",
    "You must implement the check_sum() function which takes in a list and returns True if the sum of two numbers in the list is zero. \n",
    "If no such pair exists, return False.\n",
    "\n",
    "Ex: 10, -14, 26, 5, -3, 13, -5\n",
    "    True\n",
    "\n",
    "Ex: 10, -14, 26, 5\n",
    "    False\n",
    "\n",
    "### Sample Input:\n",
    "[10, -14, 26, 5, -3, 13, -5]\n",
    "\n",
    "### Sample Output:\n",
    "True\n"
   ]
  },
  {
   "cell_type": "code",
   "execution_count": 5,
   "metadata": {},
   "outputs": [
    {
     "name": "stdout",
     "output_type": "stream",
     "text": [
      "num_list[0] + num_list[1] = -4\n",
      "num_list[0] + num_list[2] = 36\n",
      "num_list[0] + num_list[3] = 15\n",
      "num_list[0] + num_list[4] = 7\n",
      "num_list[0] + num_list[5] = 23\n",
      "num_list[0] + num_list[6] = 5\n",
      "num_list[1] + num_list[2] = 12\n",
      "num_list[1] + num_list[3] = -9\n",
      "num_list[1] + num_list[4] = -17\n",
      "num_list[1] + num_list[5] = -1\n",
      "num_list[1] + num_list[6] = -19\n",
      "num_list[2] + num_list[3] = 31\n",
      "num_list[2] + num_list[4] = 23\n",
      "num_list[2] + num_list[5] = 39\n",
      "num_list[2] + num_list[6] = 21\n",
      "num_list[3] + num_list[4] = 2\n",
      "num_list[3] + num_list[5] = 18\n",
      "num_list[3] + num_list[6] = 0\n",
      "True\n",
      "num_list[0] + num_list[1] = -4\n",
      "num_list[0] + num_list[2] = 36\n",
      "num_list[0] + num_list[3] = 15\n",
      "num_list[1] + num_list[2] = 12\n",
      "num_list[1] + num_list[3] = -9\n",
      "num_list[2] + num_list[3] = 31\n",
      "False\n"
     ]
    }
   ],
   "source": [
    "# Novice Method of finding Sum of Zero with only loops\n",
    "# it takes O(n^2)\n",
    "def check_sum(num_list):\n",
    "    for i in range(len(num_list)):\n",
    "        for j in range(i+1, len(num_list)):\n",
    "            # print(f\"num_list[{i}] + num_list[{j}] = {num_list[i]+num_list[j]}\")\n",
    "            if num_list[i] + num_list[j] == 0:\n",
    "                return True\n",
    "    return False\n",
    "\n",
    "# Merge sort the list first and then find check_sum\n",
    "# it takes (n log(n))\n",
    "\n",
    "\n",
    "print( check_sum([10, -14, 26, 5, -3, 13, -5]) )\n",
    "print( check_sum([10, -14, 26, 5]) )\n",
    "\n",
    "    \n"
   ]
  }
 ],
 "metadata": {
  "interpreter": {
   "hash": "7111a5d2cc490e67e5545c5cecb7321c04651756cdcfb8ee9a1a2c85cc7c6e80"
  },
  "kernelspec": {
   "display_name": "Python 3.10.1 64-bit ('3.10.1')",
   "language": "python",
   "name": "python3"
  },
  "language_info": {
   "codemirror_mode": {
    "name": "ipython",
    "version": 3
   },
   "file_extension": ".py",
   "mimetype": "text/x-python",
   "name": "python",
   "nbconvert_exporter": "python",
   "pygments_lexer": "ipython3",
   "version": "3.10.1"
  },
  "orig_nbformat": 4
 },
 "nbformat": 4,
 "nbformat_minor": 2
}
