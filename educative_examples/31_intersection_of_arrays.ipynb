{
 "cells": [
  {
   "cell_type": "markdown",
   "metadata": {},
   "source": [
    "# Intersection of Two Sorted Arrays\n",
    "\n",
    "Given two sorted arrays, A and B, determine their intersection. What elements are common to A and B?\n",
    "\n",
    "### Example\n",
    "> input A = [2, 3, 3, 5, 7, 11] and B = [3, 3, 7, 15, 31] </br>\n",
    "> output = [3, 7]\n"
   ]
  },
  {
   "cell_type": "code",
   "execution_count": 2,
   "metadata": {},
   "outputs": [
    {
     "name": "stdout",
     "output_type": "stream",
     "text": [
      " Intersection of [2, 3, 3, 5, 7, 11] and [3, 3, 7, 15, 31] is {3, 7}\n",
      " Intersection of [2, 3, 3, 5, 7, 11] and [3, 3, 7, 15, 31] is [3, 7]\n"
     ]
    },
    {
     "data": {
      "text/plain": [
       "[3, 7]"
      ]
     },
     "execution_count": 2,
     "metadata": {},
     "output_type": "execute_result"
    }
   ],
   "source": [
    "# Intersection of Two Sorted Arrays\n",
    "\n",
    "def pythonic_intersection(A, B):\n",
    "    print( f\" Intersection of {A} and {B} is {set(A).intersection(B)}\" )\n",
    "    return set(A).intersection(B)\n",
    "\n",
    "def intersection_of_arrays(A, B):\n",
    "    A = sorted(A)\n",
    "    B = sorted(B)\n",
    "    iA = 0\n",
    "    iB = 0\n",
    "    intersection_list = []\n",
    "    for i in range(len(A)):\n",
    "        if A[iA] < B[iB]:\n",
    "            iA += 1\n",
    "        elif A[iA] > B[iB]:\n",
    "            iB += 1\n",
    "        elif A[iA] == B[iB]:\n",
    "            if iA == 0 or A[iA] != A[iA-1]:\n",
    "                intersection_list.append(A[iA])\n",
    "            iA += 1\n",
    "            iB += 1\n",
    "    print( f\" Intersection of {A} and {B} is {intersection_list}\" )\n",
    "    return intersection_list\n",
    "\n",
    "\n",
    "A = [2, 3, 3, 5, 7, 11]\n",
    "B = [3, 3, 7, 15, 31]\n",
    "\n",
    "pythonic_intersection(A, B)\n",
    "intersection_of_arrays(A, B)\n"
   ]
  }
 ],
 "metadata": {
  "interpreter": {
   "hash": "7111a5d2cc490e67e5545c5cecb7321c04651756cdcfb8ee9a1a2c85cc7c6e80"
  },
  "kernelspec": {
   "display_name": "Python 3.10.1 64-bit ('3.10.1')",
   "language": "python",
   "name": "python3"
  },
  "language_info": {
   "codemirror_mode": {
    "name": "ipython",
    "version": 3
   },
   "file_extension": ".py",
   "mimetype": "text/x-python",
   "name": "python",
   "nbconvert_exporter": "python",
   "pygments_lexer": "ipython3",
   "version": "3.10.1"
  },
  "orig_nbformat": 4
 },
 "nbformat": 4,
 "nbformat_minor": 2
}
