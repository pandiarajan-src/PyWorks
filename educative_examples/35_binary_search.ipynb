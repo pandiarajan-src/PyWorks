{
 "cells": [
  {
   "cell_type": "markdown",
   "metadata": {},
   "source": [
    "# Binary search"
   ]
  },
  {
   "cell_type": "code",
   "execution_count": 9,
   "metadata": {},
   "outputs": [
    {
     "name": "stdout",
     "output_type": "stream",
     "text": [
      "Find 5 in [10, 8, 6, 4, 2, 0, 3, 5] and the result is True\n",
      "Find 5 in [10, 8, 6, 4, 2, 0, 3, 5] and the result is True\n",
      "Find 5 in [10, 8, 6, 4, 2, 0, 3, 5] and the result is True\n",
      "Find 7 in [10, 8, 6, 4, 2, 0, 3, 5] and the result is False\n",
      "Find 7 in [10, 8, 6, 4, 2, 0, 3, 5] and the result is False\n",
      "Find 7 in [10, 8, 6, 4, 2, 0, 3, 5] and the result is False\n",
      "Find 37 in [2, 4, 5, 7, 8, 9, 12, 14, 17, 19, 22, 25, 27, 28, 33, 37] and the result is True\n",
      "Find 37 in [2, 4, 5, 7, 8, 9, 12, 14, 17, 19, 22, 25, 27, 28, 33, 37] and the result is True\n",
      "Find 37 in [2, 4, 5, 7, 8, 9, 12, 14, 17, 19, 22, 25, 27, 28, 33, 37] and the result is True\n"
     ]
    }
   ],
   "source": [
    "# Linear search\n",
    "\n",
    "def linear_search(data, target):\n",
    "    for d in data:\n",
    "        if d == target:\n",
    "            return True\n",
    "    return False\n",
    "\n",
    "def binary_search(data, target):\n",
    "    data = sorted(data)\n",
    "    low = 0\n",
    "    high = len(data)-1\n",
    "\n",
    "    while low <= high:\n",
    "        mid = (low+high)//2\n",
    "        if data[mid] == target:\n",
    "            return True\n",
    "        elif data[mid] > target:\n",
    "            high = mid-1\n",
    "        else:\n",
    "            low = mid+1\n",
    "    return False\n",
    "\n",
    "def binary_search_recursive(data, target):\n",
    "    def binary_search_helper(data, target, low, high):\n",
    "        if low > high:\n",
    "            return False\n",
    "        mid = (low+high)//2\n",
    "        if target == data[mid]:\n",
    "            return True\n",
    "        elif target < data[mid]:\n",
    "            return binary_search_helper(data, target, low, mid-1)\n",
    "        else:\n",
    "            return binary_search_helper(data, target, low+1, high)\n",
    "\n",
    "    data = sorted(data)\n",
    "    return binary_search_helper(data, target, 0, len(data)-1)\n",
    "\n",
    "data = [10, 8, 6, 4 ,2 , 0, 3, 5]\n",
    "target = 5\n",
    "print(f\"Find {target} in {data} and the result is {linear_search(data, target)}\")\n",
    "print(f\"Find {target} in {data} and the result is {binary_search(data, target)}\")\n",
    "print(f\"Find {target} in {data} and the result is {binary_search_recursive(data, target)}\")\n",
    "\n",
    "\n",
    "target = 7\n",
    "print(f\"Find {target} in {data} and the result is {linear_search(data, target)}\")\n",
    "print(f\"Find {target} in {data} and the result is {binary_search(data, target)}\")\n",
    "print(f\"Find {target} in {data} and the result is {binary_search_recursive(data, target)}\")\n",
    "\n",
    "data = [2,4,5,7,8,9,12,14,17,19,22,25,27,28,33,37]\n",
    "target = 37\n",
    "print(f\"Find {target} in {data} and the result is {linear_search(data, target)}\")\n",
    "print(f\"Find {target} in {data} and the result is {binary_search(data, target)}\")\n",
    "print(f\"Find {target} in {data} and the result is {binary_search_recursive(data, target)}\")\n",
    "\n"
   ]
  }
 ],
 "metadata": {
  "interpreter": {
   "hash": "7111a5d2cc490e67e5545c5cecb7321c04651756cdcfb8ee9a1a2c85cc7c6e80"
  },
  "kernelspec": {
   "display_name": "Python 3.10.1 64-bit ('3.10.1')",
   "language": "python",
   "name": "python3"
  },
  "language_info": {
   "codemirror_mode": {
    "name": "ipython",
    "version": 3
   },
   "file_extension": ".py",
   "mimetype": "text/x-python",
   "name": "python",
   "nbconvert_exporter": "python",
   "pygments_lexer": "ipython3",
   "version": "3.10.1"
  },
  "orig_nbformat": 4
 },
 "nbformat": 4,
 "nbformat_minor": 2
}
