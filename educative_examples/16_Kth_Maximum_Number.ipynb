{
 "cells": [
  {
   "cell_type": "markdown",
   "metadata": {},
   "source": [
    "# Kth Maximum Integer in a List\n",
    "\n",
    "This exercise is all about finding a particular number in a list!\n",
    "\n",
    "### Problem Statement\n",
    "Given a list of integers and a number k, find the kth largest integer in the list. The integer will be stored in the kth_max variable.\n",
    "\n",
    "For example, with a list of 7 integers, if k = 2, then kth_max will be equal to the second-largest integer in the list. If k = 6, kth_max will equal the 6th largest integer.\n",
    "\n",
    "> Input: Given list [2, 4, 6, 8, 9, 1, 3, 5, 7, 9] and K = 2\n",
    "\n",
    "> Output should be 2\n",
    "\n"
   ]
  },
  {
   "cell_type": "code",
   "execution_count": 4,
   "metadata": {},
   "outputs": [
    {
     "name": "stdout",
     "output_type": "stream",
     "text": [
      "7\n"
     ]
    }
   ],
   "source": [
    "# Kth Maximum integer\n",
    "\n",
    "test_list = [2, 4, 6, 8, 0, 1, 3, 5, 7, 9]\n",
    "k = 3\n",
    "kth_max = 0\n",
    "\n",
    "def merge_sort(unsorted_list):\n",
    "    n = len(unsorted_list)\n",
    "    if n <= 1:\n",
    "        return unsorted_list\n",
    "    midpoint = n // 2\n",
    "    left_list, right_list = merge_sort(unsorted_list[:midpoint]), merge_sort(unsorted_list[midpoint:])\n",
    "    result_list = []\n",
    "    left_pointer, right_pointer = 0, 0\n",
    "    while left_pointer < midpoint or right_pointer < n - midpoint:\n",
    "        if left_pointer == midpoint:\n",
    "            result_list.append(right_list[right_pointer])\n",
    "            right_pointer += 1\n",
    "        elif right_pointer == n - midpoint:\n",
    "            result_list.append(left_list[left_pointer])\n",
    "            left_pointer += 1\n",
    "        elif left_list[left_pointer] >= right_list[right_pointer]:\n",
    "            result_list.append(left_list[left_pointer])\n",
    "            left_pointer += 1\n",
    "        else:\n",
    "            result_list.append(right_list[right_pointer])\n",
    "            right_pointer += 1\n",
    "    return result_list\n",
    "\n",
    "ordered_list = merge_sort(test_list)\n",
    "kth_max = ordered_list[k-1]\n",
    "print(kth_max)\n"
   ]
  },
  {
   "cell_type": "code",
   "execution_count": 11,
   "metadata": {},
   "outputs": [
    {
     "name": "stdout",
     "output_type": "stream",
     "text": [
      "[0, 1, 2, 3, 4, 5, 6, 7, 8, 9]\n",
      "7\n"
     ]
    }
   ],
   "source": [
    "# Kth Maximum Integer\n",
    "\n",
    "test_list = [2, 4, 6, 8, 0, 1, 3, 5, 7, 9]\n",
    "k = 3\n",
    "kth_max = 0\n",
    "\n",
    "ordered_list = sorted(test_list)\n",
    "print(ordered_list)\n",
    "kth_max = ordered_list[3*-1]\n",
    "print(kth_max)\n"
   ]
  }
 ],
 "metadata": {
  "interpreter": {
   "hash": "7111a5d2cc490e67e5545c5cecb7321c04651756cdcfb8ee9a1a2c85cc7c6e80"
  },
  "kernelspec": {
   "display_name": "Python 3.10.1 64-bit ('3.10.1')",
   "language": "python",
   "name": "python3"
  },
  "language_info": {
   "codemirror_mode": {
    "name": "ipython",
    "version": 3
   },
   "file_extension": ".py",
   "mimetype": "text/x-python",
   "name": "python",
   "nbconvert_exporter": "python",
   "pygments_lexer": "ipython3",
   "version": "3.10.1"
  },
  "orig_nbformat": 4
 },
 "nbformat": 4,
 "nbformat_minor": 2
}
