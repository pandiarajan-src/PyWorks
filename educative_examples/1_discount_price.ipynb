{
 "cells": [
  {
   "cell_type": "markdown",
   "metadata": {},
   "source": [
    "# Discounted Price\n",
    "\n",
    "## Problem Statement#\n",
    "\n",
    "In this challenge, you must discount a price according to its value.\n",
    "\n",
    "If the price is 300 or above, there will be a 30% discount.\n",
    "If the price is between 200 and 300 (200 inclusive), there will be a 20% discount.\n",
    "If the price is between 100 and 200 (100 inclusive), there will be a 10% discount.\n",
    "If the price is less than 100, there will be a 5% discount.\n",
    "If the price is negative, there will be no discount.\n",
    "\n",
    "\n",
    "## Sample Input\n",
    "price = 250\n",
    "\n",
    "## Sample Output\n",
    "price = 200\n",
    "\n"
   ]
  },
  {
   "cell_type": "code",
   "execution_count": 2,
   "metadata": {},
   "outputs": [
    {
     "name": "stdout",
     "output_type": "stream",
     "text": [
      "200.0\n"
     ]
    }
   ],
   "source": [
    "# Discounted Price\n",
    "\n",
    "price = 250\n",
    "discount = 0\n",
    "\n",
    "if price >= 300:\n",
    "    discount = 30\n",
    "elif price >=200 and price < 300:\n",
    "    discount = 20\n",
    "elif price >= 100 and price < 200:\n",
    "    discount = 10\n",
    "elif price < 100:\n",
    "    discount = 5\n",
    "else:\n",
    "    discount = 0\n",
    "\n",
    "final_price = price - (price * (discount / 100))\n",
    "print(final_price)\n",
    "\n"
   ]
  }
 ],
 "metadata": {
  "interpreter": {
   "hash": "7111a5d2cc490e67e5545c5cecb7321c04651756cdcfb8ee9a1a2c85cc7c6e80"
  },
  "kernelspec": {
   "display_name": "Python 3.10.1 64-bit ('3.10.1')",
   "language": "python",
   "name": "python3"
  },
  "language_info": {
   "codemirror_mode": {
    "name": "ipython",
    "version": 3
   },
   "file_extension": ".py",
   "mimetype": "text/x-python",
   "name": "python",
   "nbconvert_exporter": "python",
   "pygments_lexer": "ipython3",
   "version": "3.10.1"
  },
  "orig_nbformat": 4
 },
 "nbformat": 4,
 "nbformat_minor": 2
}
