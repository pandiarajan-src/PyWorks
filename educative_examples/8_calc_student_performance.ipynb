{
 "cells": [
  {
   "cell_type": "markdown",
   "metadata": {},
   "source": [
    "#  Calculate the Student's Performance\n",
    "\n",
    "### Problem statement\n",
    "\n",
    "Implement a class - Student - that has four properties and two methods. \n",
    "All these attributes (properties and methods) should be public. \n",
    "This problem can be broken down into three tasks.\n",
    "\n",
    "1. Task 1 - Implement a constructor to initialize the values of four properties: name, phy, chem, and bio.\n",
    "2. Task 2 - Implement a method – totalObtained – in the Student class that calculates total marks of a student.\n",
    "3. Task 3 - Using the totalObtained method, implement another method, percentage, in the Student class that calculates the percentage of students marks. Assume that the total marks of each subject are 100. The combined marks of three subjects are 300.\n",
    "\n",
    "#### Sample Input\n",
    "phy  = 80\n",
    "chem = 90 \n",
    "bio  = 40\n",
    "\n",
    "#### Sample Output\n",
    "70\n"
   ]
  },
  {
   "cell_type": "code",
   "execution_count": 5,
   "metadata": {},
   "outputs": [
    {
     "name": "stdout",
     "output_type": "stream",
     "text": [
      "70.0\n"
     ]
    }
   ],
   "source": [
    "#  Calculate the Student's Performance\n",
    "class Student:\n",
    "    def __init__(self, phy=0, chem=0, bio=0, name=None):\n",
    "        self.name = name\n",
    "        self.phy = phy\n",
    "        self.chem = chem\n",
    "        self.bio = bio\n",
    "\n",
    "    def totalObtained(self):\n",
    "        return self.phy + self.chem + self.bio\n",
    "\n",
    "    def percentage(self):\n",
    "        return ( self.totalObtained() / 300 ) * 100\n",
    "\n",
    "s = Student(80, 90, 40)\n",
    "print(s.percentage())"
   ]
  },
  {
   "cell_type": "markdown",
   "metadata": {},
   "source": [
    "# Implement the Complete Student Class\n",
    "\n",
    "### Problem statement\n",
    "Implement the complete Student class by completing the tasks below\n",
    "\n",
    "Implement the following properties as private:\n",
    "\n",
    "1. name\n",
    "2. rollNumber\n",
    "\n",
    "Include the following methods to get and set the private properties above:\n",
    "\n",
    "1. getName()\n",
    "2. setName()\n",
    "3. getRollNumber()\n",
    "4. setRollNumber()\n",
    "\n",
    "Implement this class according to the rules of encapsulation.\n",
    "\n",
    "> Note: Do not use initializers to initialize the properties. Use the set methods to do so. If the setter is not defined properly, the corresponding getter will also generate an error even if the getter is defined properly."
   ]
  },
  {
   "cell_type": "code",
   "execution_count": null,
   "metadata": {},
   "outputs": [],
   "source": [
    "# Implement the Complete Student Class\n",
    "\n",
    "class Student:\n",
    "    def __init__(self):\n",
    "        self.__name = None\n",
    "        self.__rollNumber = None\n",
    "\n",
    "    def setName(self, name):\n",
    "        self.__name = name\n",
    "    \n",
    "    def getName(self):\n",
    "        return self.__name\n",
    "\n",
    "    def getRollNumber(self):\n",
    "        return self.__rollNumber\n",
    "\n",
    "    def setRollNumber(self, rollnumber):\n",
    "        self.__rollNumber = rollnumber\n"
   ]
  }
 ],
 "metadata": {
  "interpreter": {
   "hash": "7111a5d2cc490e67e5545c5cecb7321c04651756cdcfb8ee9a1a2c85cc7c6e80"
  },
  "kernelspec": {
   "display_name": "Python 3.10.1 64-bit ('3.10.1')",
   "language": "python",
   "name": "python3"
  },
  "language_info": {
   "codemirror_mode": {
    "name": "ipython",
    "version": 3
   },
   "file_extension": ".py",
   "mimetype": "text/x-python",
   "name": "python",
   "nbconvert_exporter": "python",
   "pygments_lexer": "ipython3",
   "version": "3.10.1"
  },
  "orig_nbformat": 4
 },
 "nbformat": 4,
 "nbformat_minor": 2
}
