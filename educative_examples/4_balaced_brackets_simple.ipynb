{
 "cells": [
  {
   "cell_type": "markdown",
   "metadata": {},
   "source": [
    "# Balanced Brackets\n",
    "\n",
    "Given a string containing only square brackets, [], you must check whether the brackets are balanced or not. The brackets are said to be balanced if, for every opening bracket, there is a closing bracket.\n",
    "\n",
    "You will write your code in the check_balance() function, which returns True if the brackets are balanced and False if they are not.\n",
    "\n",
    "For an empty string, the function will return True.\n",
    "\n",
    "For the sake of simplicity, you can assume that the string will not contain any other characters.\n",
    "\n",
    "## Sample Input\n",
    "\"[[[[][]]]]\"\n",
    "\n",
    "## Sample Output\n",
    "True\n",
    "\n"
   ]
  },
  {
   "cell_type": "code",
   "execution_count": 4,
   "metadata": {},
   "outputs": [
    {
     "name": "stdout",
     "output_type": "stream",
     "text": [
      "True\n",
      "True\n",
      "True\n",
      "False\n"
     ]
    }
   ],
   "source": [
    "# Balanced Brackets\n",
    "\n",
    "# This commented code is wrong, it will not check for complete open close situation\n",
    "# def check_balance(brackets):\n",
    "#     start_bracket_count = 0\n",
    "#     end_bracket_count = 0\n",
    "#     for char in brackets:\n",
    "#         if char == \"[\":\n",
    "#             start_bracket_count += 1\n",
    "#             continue\n",
    "#         elif char == \"]\":\n",
    "#             end_bracket_count += 1\n",
    "#             continue\n",
    "#         else:\n",
    "#             continue\n",
    "#     if start_bracket_count == end_bracket_count:\n",
    "#         return True\n",
    "#     else:\n",
    "#         return False\n",
    "\n",
    "\n",
    "def check_balance(brackets):\n",
    "    check = 0\n",
    "    for char in brackets:\n",
    "        if char == \"[\":\n",
    "            check += 1\n",
    "        elif char == \"]\":\n",
    "            check -= 1\n",
    "        elif check < 0:\n",
    "            break;\n",
    "    if check == 0:\n",
    "        return True\n",
    "    else:\n",
    "        return False\n",
    "\n",
    "print(check_balance(\"how\"))\n",
    "print(check_balance(\"\"))\n",
    "print(check_balance(\"[[[[][]]]]\"))\n",
    "print(check_balance(\"[[[[[]]]]\"))\n"
   ]
  }
 ],
 "metadata": {
  "interpreter": {
   "hash": "7111a5d2cc490e67e5545c5cecb7321c04651756cdcfb8ee9a1a2c85cc7c6e80"
  },
  "kernelspec": {
   "display_name": "Python 3.10.1 64-bit ('3.10.1')",
   "language": "python",
   "name": "python3"
  },
  "language_info": {
   "codemirror_mode": {
    "name": "ipython",
    "version": 3
   },
   "file_extension": ".py",
   "mimetype": "text/x-python",
   "name": "python",
   "nbconvert_exporter": "python",
   "pygments_lexer": "ipython3",
   "version": "3.10.1"
  },
  "orig_nbformat": 4
 },
 "nbformat": 4,
 "nbformat_minor": 2
}
