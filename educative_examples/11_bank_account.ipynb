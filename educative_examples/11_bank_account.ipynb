{
 "cells": [
  {
   "cell_type": "markdown",
   "metadata": {},
   "source": [
    "# Implement a Banking Account\n",
    "\n",
    "### Problem statement\n",
    "\n",
    "Implement the basic structure of a parent class, Account, and a child class, SavingsAccount.\n",
    "\n",
    "1. Task 1 - Implement properties as instance variables, and set them to None or 0. Account has the following properties:\n",
    "                title\n",
    "                balance\n",
    "        SavingsAccount has the following properties:\n",
    "                interestRate\n",
    "\n",
    "2. Task 2 - Create an initializer for Account class. \n",
    "                The order of parameters should be the following, where Mark is the title, and 5000 is the account balance:\n",
    "\n",
    "3. Task 3 - Implement properties as instance variables, and set them to None or 0.\n",
    "                Create an initializer for the SavingsAccount class using the initializer of the Account class in the order below:\n",
    "\n",
    "4. Task 4 - In the Account class, implement the getBalance() method that returns balance.\n",
    "\n",
    "5. Task 5 - In the Account class, implement the deposit(amount) method that adds amount to the balance. It does not return anything.\n",
    "\n",
    "6. Task 6 - In the Account class, implement the withdrawal(amount) method that subtracts the amount from the balance. It does not return anything.\n",
    "\n",
    "7. In the SavingsAccount class, implement an interestAmount() method that returns the interest amount of the current balance. Below is the formula for calculating the interest amount:"
   ]
  },
  {
   "cell_type": "code",
   "execution_count": 1,
   "metadata": {},
   "outputs": [
    {
     "name": "stdout",
     "output_type": "stream",
     "text": [
      "Initial Balance: 5000\n",
      "Balance after withdrawal: 4000\n",
      "Balance after deposit: 4500\n",
      "Interest on current balance: 450.0\n"
     ]
    }
   ],
   "source": [
    "# Implement a Banking Account\n",
    "\n",
    "class Account:\n",
    "    def __init__(self, title=None, balance=0):\n",
    "        self.title = title\n",
    "        self.balance = balance\n",
    "\n",
    "    def getBalance(self):\n",
    "        return self.balance\n",
    "\n",
    "    def deposit(self, amount):\n",
    "        self.balance += amount\n",
    "\n",
    "    def withdrawal(self, amount):\n",
    "        self.balance -= amount\n",
    "\n",
    "class SavingsAccount(Account):\n",
    "    def __init__(self, title=None, balance=0, interestRate=0):\n",
    "        super().__init__(title, balance)\n",
    "        self.interestRate = interestRate\n",
    "\n",
    "    def interestAmount(self):\n",
    "        return ( (self.balance * self.interestRate)/100 )\n",
    "\n",
    "obj1 = SavingsAccount(\"Steve\", 5000, 10)\n",
    "print(\"Initial Balance:\", obj1.getBalance())\n",
    "obj1.withdrawal(1000)\n",
    "print(\"Balance after withdrawal:\", obj1.getBalance())\n",
    "obj1.deposit(500)\n",
    "print(\"Balance after deposit:\", obj1.getBalance())\n",
    "print(\"Interest on current balance:\", obj1.interestAmount())"
   ]
  }
 ],
 "metadata": {
  "interpreter": {
   "hash": "7111a5d2cc490e67e5545c5cecb7321c04651756cdcfb8ee9a1a2c85cc7c6e80"
  },
  "kernelspec": {
   "display_name": "Python 3.10.1 64-bit ('3.10.1')",
   "language": "python",
   "name": "python3"
  },
  "language_info": {
   "codemirror_mode": {
    "name": "ipython",
    "version": 3
   },
   "file_extension": ".py",
   "mimetype": "text/x-python",
   "name": "python",
   "nbconvert_exporter": "python",
   "pygments_lexer": "ipython3",
   "version": "3.10.1"
  },
  "orig_nbformat": 4
 },
 "nbformat": 4,
 "nbformat_minor": 2
}
