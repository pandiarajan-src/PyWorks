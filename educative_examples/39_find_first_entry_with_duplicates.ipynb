{
 "cells": [
  {
   "cell_type": "markdown",
   "metadata": {},
   "source": [
    "# Find First Entry in List with Duplicates\n",
    "\n",
    "we will be writing a function that takes an array of sorted integers and a key and returns the index of the first occurrence of that key from the array.\n",
    "\n",
    "### For example:\n",
    "> [-14, -10, 2, 108, 108, 243, 285, 285, 285, 401] </br>\n",
    "> target = 108\n",
    "\n",
    "The algorithm would return 3, as the first occurrence of 108 in the above array is located at index 3."
   ]
  },
  {
   "cell_type": "code",
   "execution_count": 2,
   "metadata": {},
   "outputs": [
    {
     "name": "stdout",
     "output_type": "stream",
     "text": [
      "Find 1st occurance of 108 in [-14, -10, 2, 108, 108, 243, 285, 285, 285, 401] : Result is : 3\n",
      "Find 1st occurance of 108 in [-14, -10, 2, 108, 108, 243, 285, 285, 285, 401] : Result is : 3\n"
     ]
    }
   ],
   "source": [
    "# Find First Entry in List with Duplicates\n",
    "\n",
    "def find_first_entry_in_list_with_duplicates_naive(numbers, target):\n",
    "    for i in range(len(numbers)):\n",
    "        if numbers[i] == target:\n",
    "            return i\n",
    "\n",
    "def find_first_entry_in_list_with_duplicates_binary_search(numbers, target):\n",
    "    if not numbers:\n",
    "        return None\n",
    "    \n",
    "    low = 0\n",
    "    high = len(numbers)-1\n",
    "    while low <= high:\n",
    "        mid = (low+high)//2\n",
    "        if numbers[mid] < target:\n",
    "            low = mid + 1\n",
    "        elif numbers[mid] > target:\n",
    "            high = mid - 1\n",
    "        else:\n",
    "            if mid-1 < 0:\n",
    "                return mid\n",
    "            elif numbers[mid-1] != target:\n",
    "                return mid\n",
    "            else:\n",
    "                high = mid - 1\n",
    "    return None\n",
    "\n",
    "A1 = [-14, -10, 2, 108, 108, 243, 285, 285, 285, 401]\n",
    "target = 108\n",
    "print(f\"Find 1st occurance of {target} in {A1} : Result is : {find_first_entry_in_list_with_duplicates_naive(A1, target)}\")\n",
    "print(f\"Find 1st occurance of {target} in {A1} : Result is : {find_first_entry_in_list_with_duplicates_binary_search(A1, target)}\")\n"
   ]
  }
 ],
 "metadata": {
  "interpreter": {
   "hash": "7111a5d2cc490e67e5545c5cecb7321c04651756cdcfb8ee9a1a2c85cc7c6e80"
  },
  "kernelspec": {
   "display_name": "Python 3.10.1 64-bit ('3.10.1')",
   "language": "python",
   "name": "python3"
  },
  "language_info": {
   "codemirror_mode": {
    "name": "ipython",
    "version": 3
   },
   "file_extension": ".py",
   "mimetype": "text/x-python",
   "name": "python",
   "nbconvert_exporter": "python",
   "pygments_lexer": "ipython3",
   "version": "3.10.1"
  },
  "orig_nbformat": 4
 },
 "nbformat": 4,
 "nbformat_minor": 2
}
