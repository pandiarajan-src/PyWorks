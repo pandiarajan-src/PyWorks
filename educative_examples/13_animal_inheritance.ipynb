{
 "cells": [
  {
   "cell_type": "markdown",
   "metadata": {},
   "source": [
    "# Implement an Animal Class\n",
    "\n",
    "### Problem Statement\n",
    "\n"
   ]
  },
  {
   "cell_type": "code",
   "execution_count": 3,
   "metadata": {},
   "outputs": [
    {
     "name": "stdout",
     "output_type": "stream",
     "text": [
      "Name: Pongo\n",
      "Sound: Woof Woof\n",
      "Family: Husky\n",
      " \n",
      "Name: Billy\n",
      "Sound: Baaa Baaa\n",
      "Color: White\n"
     ]
    }
   ],
   "source": [
    "# Implement an Animal Class\n",
    "\n",
    "class Animal:\n",
    "    def __init__(self, name, sound):\n",
    "        self.name = name\n",
    "        self.sound = sound\n",
    "\n",
    "    def Animal_details(self):\n",
    "        print(f\"Name: {self.name}\\nSound: {self.sound}\")\n",
    "\n",
    "class Dog(Animal):\n",
    "    def __init__(self, name, sound, family):\n",
    "        super().__init__(name, sound)\n",
    "        self.family = family\n",
    "\n",
    "    def Animal_details(self):\n",
    "        super().Animal_details()\n",
    "        print(f\"Family: {self.family}\")\n",
    "\n",
    "class Sheep(Animal):\n",
    "    def __init__(self, name, sound, color):\n",
    "        super().__init__(name, sound)\n",
    "        self.color = color\n",
    "\n",
    "    def Animal_details(self):\n",
    "        super().Animal_details()\n",
    "        print(f\"Color: {self.color}\")\n",
    "\n",
    "\n",
    "d = Dog(\"Pongo\", \"Woof Woof\", \"Husky\")\n",
    "d.Animal_details()\n",
    "print(\" \")\n",
    "s = Sheep(\"Billy\", \"Baaa Baaa\", \"White\")\n",
    "s.Animal_details()"
   ]
  }
 ],
 "metadata": {
  "interpreter": {
   "hash": "7111a5d2cc490e67e5545c5cecb7321c04651756cdcfb8ee9a1a2c85cc7c6e80"
  },
  "kernelspec": {
   "display_name": "Python 3.10.1 64-bit ('3.10.1')",
   "language": "python",
   "name": "python3"
  },
  "language_info": {
   "codemirror_mode": {
    "name": "ipython",
    "version": 3
   },
   "file_extension": ".py",
   "mimetype": "text/x-python",
   "name": "python",
   "nbconvert_exporter": "python",
   "pygments_lexer": "ipython3",
   "version": "3.10.1"
  },
  "orig_nbformat": 4
 },
 "nbformat": 4,
 "nbformat_minor": 2
}
