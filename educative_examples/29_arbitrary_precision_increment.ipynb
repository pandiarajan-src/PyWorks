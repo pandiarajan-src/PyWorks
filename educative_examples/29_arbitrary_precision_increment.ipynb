{
 "cells": [
  {
   "cell_type": "markdown",
   "metadata": {},
   "source": [
    "# Arbitrary precision increment\n",
    "\n",
    "> Given: An array of non-negative digits that represent a decimal integer.\n",
    "\n",
    ">Problem: Add one to the integer. Assume the solution still works even if implemented in a language with finite-precision arithmetic.\n",
    "\n",
    "Example: [1,4,9] + 1 ==> [1, 5, 0]\n"
   ]
  },
  {
   "cell_type": "code",
   "execution_count": 4,
   "metadata": {},
   "outputs": [
    {
     "name": "stdout",
     "output_type": "stream",
     "text": [
      "[1,4,9] + 1 ==> 150 and it is Correct\n",
      "[9,9,9] + 2 ==> 1001 and it is Correct\n"
     ]
    }
   ],
   "source": [
    "# Arbitrary precision increment\n",
    "# This is simplest solution in python, which will not work in interviews\n",
    "\n",
    "def add_value_in_arrays(array_input, val_2_add):\n",
    "    return int(\"\".join(map(str, array_input))) + val_2_add\n",
    "\n",
    "result = add_value_in_arrays([1, 4, 9], 1)\n",
    "print( f\"[1,4,9] + 1 ==> {result} and it is {'Correct' if result == 150 else 'Not Correct'}\")\n",
    "\n",
    "result = add_value_in_arrays([9, 9, 9], 2)\n",
    "print( f\"[9,9,9] + 2 ==> {result} and it is {'Correct' if result == 1001 else 'Not Correct'}\")"
   ]
  },
  {
   "cell_type": "code",
   "execution_count": 24,
   "metadata": {},
   "outputs": [
    {
     "name": "stdout",
     "output_type": "stream",
     "text": [
      "[1,4,9] + 1 ==> 150 and it is Correct\n",
      "[9,9,9] + 2 ==> 1001 and it is Correct\n",
      "[9,9,9] + 999 ==> 1998 and it is Correct\n",
      "[9,9,9] + 9999 ==> 1998 and it is Not Correct\n"
     ]
    }
   ],
   "source": [
    "# Arbitrary precision increment\n",
    "\n",
    "def add_value_in_array(array_input, val_2_add):\n",
    "    result = []\n",
    "    lst_index = len(array_input) - 1\n",
    "    carry_over = 0\n",
    "    while lst_index >= 0:\n",
    "        sum = carry_over + array_input[lst_index] + val_2_add%10\n",
    "        carry_over = sum // 10\n",
    "        result.insert(0, sum%10)\n",
    "        if val_2_add > 0:\n",
    "            val_2_add = val_2_add // 10\n",
    "        lst_index -= 1\n",
    "    if carry_over > 0:\n",
    "        result.insert(0, carry_over)\n",
    "    return result\n",
    "\n",
    "result = \"\".join(map(str, add_value_in_array([1, 4, 9], 1)))\n",
    "print( f\"[1,4,9] + 1 ==> {result} and it is {'Correct' if result == '150' else 'Not Correct'}\")\n",
    "\n",
    "result = \"\".join(map(str, add_value_in_array([9, 9, 9], 2)))\n",
    "print( f\"[9,9,9] + 2 ==> {result} and it is {'Correct' if result == '1001' else 'Not Correct'}\")\n",
    "\n",
    "result = \"\".join(map(str, add_value_in_array([9, 9, 9], 999)))\n",
    "print( f\"[9,9,9] + 999 ==> {result} and it is {'Correct' if result == '1998' else 'Not Correct'}\")\n",
    "\n",
    "result = \"\".join(map(str, add_value_in_array([9, 9, 9], 9999)))\n",
    "print( f\"[9,9,9] + 9999 ==> {result} and it is {'Correct' if result == '10998' else 'Not Correct'}\")\n"
   ]
  }
 ],
 "metadata": {
  "interpreter": {
   "hash": "7111a5d2cc490e67e5545c5cecb7321c04651756cdcfb8ee9a1a2c85cc7c6e80"
  },
  "kernelspec": {
   "display_name": "Python 3.10.1 64-bit ('3.10.1')",
   "language": "python",
   "name": "python3"
  },
  "language_info": {
   "codemirror_mode": {
    "name": "ipython",
    "version": 3
   },
   "file_extension": ".py",
   "mimetype": "text/x-python",
   "name": "python",
   "nbconvert_exporter": "python",
   "pygments_lexer": "ipython3",
   "version": "3.10.1"
  },
  "orig_nbformat": 4
 },
 "nbformat": 4,
 "nbformat_minor": 2
}
