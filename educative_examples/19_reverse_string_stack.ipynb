{
 "cells": [
  {
   "cell_type": "markdown",
   "metadata": {},
   "source": [
    "# Reverse a String\n",
    "\n"
   ]
  },
  {
   "cell_type": "code",
   "execution_count": 6,
   "metadata": {},
   "outputs": [
    {
     "name": "stdout",
     "output_type": "stream",
     "text": [
      "Educative : Reverse of this string: evitacudE\n",
      "Educative : Reverse of this string: evitacudE\n",
      "Hello : Reverse of this string: olleH\n",
      "Hello : Reverse of this string: olleH\n"
     ]
    }
   ],
   "source": [
    "# Reverse a String\n",
    "\n",
    "from stack import Stack\n",
    "\n",
    "def reverse_string_simple(data):\n",
    "    return str(data[::-1])\n",
    "\n",
    "\n",
    "def reverse_string_stack_impl(data):\n",
    "    reverse_stack = Stack()\n",
    "    reverse_string = \"\"\n",
    "\n",
    "    for c in data:\n",
    "        reverse_stack.push(c)\n",
    "\n",
    "    while not reverse_stack.is_empty():\n",
    "        reverse_string += reverse_stack.pop()\n",
    "\n",
    "    return reverse_string\n",
    "\n",
    "\n",
    "input_data = \"Educative\"\n",
    "print(f\"{input_data} : Reverse of this string: {reverse_string_simple(input_data)}\")\n",
    "print(f\"{input_data} : Reverse of this string: {reverse_string_stack_impl(input_data)}\")\n",
    "\n",
    "input_data = \"Hello\"\n",
    "print(f\"{input_data} : Reverse of this string: {reverse_string_simple(input_data)}\")\n",
    "print(f\"{input_data} : Reverse of this string: {reverse_string_stack_impl(input_data)}\")"
   ]
  }
 ],
 "metadata": {
  "interpreter": {
   "hash": "7111a5d2cc490e67e5545c5cecb7321c04651756cdcfb8ee9a1a2c85cc7c6e80"
  },
  "kernelspec": {
   "display_name": "Python 3.10.1 64-bit ('3.10.1')",
   "language": "python",
   "name": "python3"
  },
  "language_info": {
   "codemirror_mode": {
    "name": "ipython",
    "version": 3
   },
   "file_extension": ".py",
   "mimetype": "text/x-python",
   "name": "python",
   "nbconvert_exporter": "python",
   "pygments_lexer": "ipython3",
   "version": "3.10.1"
  },
  "orig_nbformat": 4
 },
 "nbformat": 4,
 "nbformat_minor": 2
}
