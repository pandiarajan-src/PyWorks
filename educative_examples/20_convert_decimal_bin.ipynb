{
 "cells": [
  {
   "cell_type": "code",
   "execution_count": 9,
   "metadata": {},
   "outputs": [
    {
     "name": "stdout",
     "output_type": "stream",
     "text": [
      "0 equivalent binary : \n",
      "1 equivalent binary : 1\n",
      "2 equivalent binary : 10\n",
      "3 equivalent binary : 11\n",
      "4 equivalent binary : 100\n",
      "5 equivalent binary : 101\n",
      "6 equivalent binary : 110\n",
      "7 equivalent binary : 111\n",
      "8 equivalent binary : 1000\n",
      "9 equivalent binary : 1001\n",
      "10 equivalent binary : 1010\n",
      "11 equivalent binary : 1011\n",
      "12 equivalent binary : 1100\n",
      "13 equivalent binary : 1101\n",
      "14 equivalent binary : 1110\n",
      "15 equivalent binary : 1111\n",
      "16 equivalent binary : 10000\n",
      "17 equivalent binary : 10001\n",
      "18 equivalent binary : 10010\n",
      "19 equivalent binary : 10011\n",
      "20 equivalent binary : 10100\n",
      "21 equivalent binary : 10101\n",
      "22 equivalent binary : 10110\n",
      "23 equivalent binary : 10111\n",
      "24 equivalent binary : 11000\n"
     ]
    }
   ],
   "source": [
    "# Convert decimal to bin\n",
    "\n",
    "from stack import Stack\n",
    "\n",
    "def convert_int_to_bin(dec_num):\n",
    "    digit_stack = Stack()\n",
    "    while True:\n",
    "        temp = dec_num // 2\n",
    "        bin = dec_num % 2\n",
    "        digit_stack.push(bin)\n",
    "        if temp == 0 or temp == 1:\n",
    "            digit_stack.push(temp)\n",
    "            break\n",
    "        dec_num = temp\n",
    "    return \"\".join(map(str,digit_stack.get_stack()[::-1]))\n",
    "\n",
    "def convert_int_to_bin_1(dec_num):\n",
    "    if dec_num == 0:\n",
    "        return \"0\"\n",
    "    digit_stack = Stack()\n",
    "    while dec_num > 0:\n",
    "        bin = dec_num % 2\n",
    "        digit_stack.push(bin)\n",
    "        dec_num = dec_num // 2\n",
    "\n",
    "    return \"\".join(map(str,digit_stack.get_stack()[::-1]))\n",
    "\n",
    "for index in range(25):\n",
    "    print(f\"{index} equivalent binary : {convert_int_to_bin_1(index)}\")\n",
    "    \n"
   ]
  }
 ],
 "metadata": {
  "interpreter": {
   "hash": "7111a5d2cc490e67e5545c5cecb7321c04651756cdcfb8ee9a1a2c85cc7c6e80"
  },
  "kernelspec": {
   "display_name": "Python 3.10.1 64-bit ('3.10.1')",
   "language": "python",
   "name": "python3"
  },
  "language_info": {
   "codemirror_mode": {
    "name": "ipython",
    "version": 3
   },
   "file_extension": ".py",
   "mimetype": "text/x-python",
   "name": "python",
   "nbconvert_exporter": "python",
   "pygments_lexer": "ipython3",
   "version": "3.10.1"
  },
  "orig_nbformat": 4
 },
 "nbformat": 4,
 "nbformat_minor": 2
}
